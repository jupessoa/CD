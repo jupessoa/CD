{
 "cells": [
  {
   "cell_type": "markdown",
   "metadata": {},
   "source": [
    "___\n",
    "# PROJETO 1"
   ]
  },
  {
   "cell_type": "markdown",
   "metadata": {},
   "source": [
    "## <font color='red'>Juliana Costa Pessoa</font>\n",
    "___"
   ]
  },
  {
   "cell_type": "markdown",
   "metadata": {},
   "source": [
    "## <font color='blue'>Perfil dos aposentados</font>"
   ]
  },
  {
   "cell_type": "markdown",
   "metadata": {},
   "source": [
    "## Introdução\n",
    "\n",
    "   A análise foi feita a partir da divisão de aposentados dos não aposentados. Dentre os não aposentados, filtrou-se as pessoas de referência, em busca de fazer uma comparação razoável, e não incluir crianças, por exemplo.\n",
    "   As variáveis foram escolhidas com foco no trabalho e outras questões relacionadas.\n",
    "\n",
    "   O link abaixo relata características da população de idosos, como causa mortis, sexo, estado conjugal, distribuição espacial etc. Tais variáveis foram apresentadas com números absolutos e relativos, através de tabelas cruzadas, histogramas e gráficos de linhas.\n",
    "    \n",
    "   (https://www.nescon.medicina.ufmg.br/biblioteca/imagem/0191.pdf)\n",
    "\n",
    "\n"
   ]
  },
  {
   "cell_type": "markdown",
   "metadata": {},
   "source": [
    "___\n",
    "## Análise e Resultados"
   ]
  },
  {
   "cell_type": "code",
   "execution_count": 187,
   "metadata": {
    "collapsed": true
   },
   "outputs": [],
   "source": [
    "%matplotlib inline\n",
    "import pandas as pd\n",
    "import matplotlib.pyplot as plt\n",
    "import numpy as np\n",
    "import os\n",
    "from scipy import stats\n",
    "import warnings\n",
    "warnings.filterwarnings('ignore')"
   ]
  },
  {
   "cell_type": "code",
   "execution_count": 188,
   "metadata": {
    "collapsed": false
   },
   "outputs": [
    {
     "name": "stdout",
     "output_type": "stream",
     "text": [
      "Esperamos trabalhar no diretório\n",
      "C:\\Users\\pesso\\Documents\\CIÊNCIA DOS DADOS\\PROJETO1\n"
     ]
    }
   ],
   "source": [
    "print('Esperamos trabalhar no diretório')\n",
    "print(os.getcwd())"
   ]
  },
  {
   "cell_type": "code",
   "execution_count": 189,
   "metadata": {
    "collapsed": false
   },
   "outputs": [],
   "source": [
    "dados = pd.read_table('pes2014certo.txt', encoding=\"windows-1252\", sep=\",\")"
   ]
  },
  {
   "cell_type": "code",
   "execution_count": 190,
   "metadata": {
    "collapsed": false
   },
   "outputs": [
    {
     "data": {
      "text/html": [
       "<div>\n",
       "<table border=\"1\" class=\"dataframe\">\n",
       "  <thead>\n",
       "    <tr style=\"text-align: right;\">\n",
       "      <th></th>\n",
       "      <th>renda</th>\n",
       "      <th>nivel de instrução</th>\n",
       "      <th>sabe ler/escrever</th>\n",
       "      <th>condicao de atividade no trabalho</th>\n",
       "      <th>anos de estudo</th>\n",
       "      <th>tempo diário da residência para o trabalho</th>\n",
       "      <th>recebe auxílio para transporte</th>\n",
       "    </tr>\n",
       "  </thead>\n",
       "  <tbody>\n",
       "    <tr>\n",
       "      <th>5</th>\n",
       "      <td>724</td>\n",
       "      <td>2</td>\n",
       "      <td>1</td>\n",
       "      <td>2</td>\n",
       "      <td>3</td>\n",
       "      <td>NaN</td>\n",
       "      <td>NaN</td>\n",
       "    </tr>\n",
       "    <tr>\n",
       "      <th>11</th>\n",
       "      <td>855</td>\n",
       "      <td>2</td>\n",
       "      <td>1</td>\n",
       "      <td>2</td>\n",
       "      <td>4</td>\n",
       "      <td>NaN</td>\n",
       "      <td>NaN</td>\n",
       "    </tr>\n",
       "    <tr>\n",
       "      <th>25</th>\n",
       "      <td>2362</td>\n",
       "      <td>2</td>\n",
       "      <td>1</td>\n",
       "      <td>1</td>\n",
       "      <td>2</td>\n",
       "      <td>1</td>\n",
       "      <td>NaN</td>\n",
       "    </tr>\n",
       "    <tr>\n",
       "      <th>26</th>\n",
       "      <td>2362</td>\n",
       "      <td>5</td>\n",
       "      <td>1</td>\n",
       "      <td>2</td>\n",
       "      <td>12</td>\n",
       "      <td>NaN</td>\n",
       "      <td>NaN</td>\n",
       "    </tr>\n",
       "    <tr>\n",
       "      <th>51</th>\n",
       "      <td>444</td>\n",
       "      <td>1</td>\n",
       "      <td>1</td>\n",
       "      <td>2</td>\n",
       "      <td>1</td>\n",
       "      <td>NaN</td>\n",
       "      <td>NaN</td>\n",
       "    </tr>\n",
       "  </tbody>\n",
       "</table>\n",
       "</div>"
      ],
      "text/plain": [
       "    renda  nivel de instrução  sabe ler/escrever  \\\n",
       "5     724                   2                  1   \n",
       "11    855                   2                  1   \n",
       "25   2362                   2                  1   \n",
       "26   2362                   5                  1   \n",
       "51    444                   1                  1   \n",
       "\n",
       "    condicao de atividade no trabalho  anos de estudo  \\\n",
       "5                                   2               3   \n",
       "11                                  2               4   \n",
       "25                                  1               2   \n",
       "26                                  2              12   \n",
       "51                                  2               1   \n",
       "\n",
       "    tempo diário da residência para o trabalho  recebe auxílio para transporte  \n",
       "5                                          NaN                             NaN  \n",
       "11                                         NaN                             NaN  \n",
       "25                                           1                             NaN  \n",
       "26                                         NaN                             NaN  \n",
       "51                                         NaN                             NaN  "
      ]
     },
     "execution_count": 190,
     "metadata": {},
     "output_type": "execute_result"
    }
   ],
   "source": [
    "# Aposentados\n",
    "\n",
    "d = pd.DataFrame()\n",
    "\n",
    "ap = dados[dados.V9122 == 2]\n",
    "\n",
    "d[\"renda\"] = ap.V4750\n",
    "d[\"nivel de instrução\"] = ap.V4745\n",
    "d[\"sabe ler/escrever\"] = ap.V0601\n",
    "d[\"condicao de atividade no trabalho\"] = ap.V4713\n",
    "d[\"anos de estudo\"] = ap.V4803\n",
    "d[\"tempo diário da residência para o trabalho\"] = ap.V9057\n",
    "d[\"recebe auxílio para transporte\"] = ap.V9045\n",
    "\n",
    "d.head()"
   ]
  },
  {
   "cell_type": "code",
   "execution_count": 191,
   "metadata": {
    "collapsed": false
   },
   "outputs": [],
   "source": [
    "# Não aposentados\n",
    "ativo = dados[dados.V9122 == 4]"
   ]
  },
  {
   "cell_type": "code",
   "execution_count": 192,
   "metadata": {
    "collapsed": false
   },
   "outputs": [
    {
     "data": {
      "text/html": [
       "<div>\n",
       "<table border=\"1\" class=\"dataframe\">\n",
       "  <thead>\n",
       "    <tr style=\"text-align: right;\">\n",
       "      <th></th>\n",
       "      <th>renda</th>\n",
       "      <th>nivel de instrução</th>\n",
       "      <th>sabe ler/escrever</th>\n",
       "      <th>condicao de atividade no trabalho</th>\n",
       "      <th>anos de estudo</th>\n",
       "      <th>tempo diário da residência para o trabalho</th>\n",
       "      <th>recebe auxílio para transporte</th>\n",
       "    </tr>\n",
       "  </thead>\n",
       "  <tbody>\n",
       "    <tr>\n",
       "      <th>0</th>\n",
       "      <td>500</td>\n",
       "      <td>3</td>\n",
       "      <td>1</td>\n",
       "      <td>1</td>\n",
       "      <td>9</td>\n",
       "      <td>1</td>\n",
       "      <td>3</td>\n",
       "    </tr>\n",
       "    <tr>\n",
       "      <th>3</th>\n",
       "      <td>1150</td>\n",
       "      <td>2</td>\n",
       "      <td>1</td>\n",
       "      <td>1</td>\n",
       "      <td>6</td>\n",
       "      <td>1</td>\n",
       "      <td>3</td>\n",
       "    </tr>\n",
       "    <tr>\n",
       "      <th>6</th>\n",
       "      <td>1700</td>\n",
       "      <td>4</td>\n",
       "      <td>1</td>\n",
       "      <td>1</td>\n",
       "      <td>10</td>\n",
       "      <td>NaN</td>\n",
       "      <td>NaN</td>\n",
       "    </tr>\n",
       "    <tr>\n",
       "      <th>15</th>\n",
       "      <td>850</td>\n",
       "      <td>2</td>\n",
       "      <td>1</td>\n",
       "      <td>1</td>\n",
       "      <td>5</td>\n",
       "      <td>1</td>\n",
       "      <td>3</td>\n",
       "    </tr>\n",
       "    <tr>\n",
       "      <th>17</th>\n",
       "      <td>3220</td>\n",
       "      <td>2</td>\n",
       "      <td>1</td>\n",
       "      <td>1</td>\n",
       "      <td>8</td>\n",
       "      <td>1</td>\n",
       "      <td>1</td>\n",
       "    </tr>\n",
       "  </tbody>\n",
       "</table>\n",
       "</div>"
      ],
      "text/plain": [
       "    renda  nivel de instrução  sabe ler/escrever  \\\n",
       "0     500                   3                  1   \n",
       "3    1150                   2                  1   \n",
       "6    1700                   4                  1   \n",
       "15    850                   2                  1   \n",
       "17   3220                   2                  1   \n",
       "\n",
       "    condicao de atividade no trabalho  anos de estudo  \\\n",
       "0                                   1               9   \n",
       "3                                   1               6   \n",
       "6                                   1              10   \n",
       "15                                  1               5   \n",
       "17                                  1               8   \n",
       "\n",
       "    tempo diário da residência para o trabalho  recebe auxílio para transporte  \n",
       "0                                            1                               3  \n",
       "3                                            1                               3  \n",
       "6                                          NaN                             NaN  \n",
       "15                                           1                               3  \n",
       "17                                           1                               1  "
      ]
     },
     "execution_count": 192,
     "metadata": {},
     "output_type": "execute_result"
    }
   ],
   "source": [
    "# Pessoas de referência na família/chefes de família \n",
    "\n",
    "d1 = pd.DataFrame()\n",
    "\n",
    "ref = ativo[ativo.V0402 == 1]\n",
    "\n",
    "d1[\"renda\"] = ref.V4750\n",
    "d1[\"nivel de instrução\"] = ref.V4745\n",
    "d1[\"sabe ler/escrever\"] = ref.V0601\n",
    "d1[\"condicao de atividade no trabalho\"] = ref.V4713\n",
    "d1[\"anos de estudo\"] = ref.V4803\n",
    "d1[\"tempo diário da residência para o trabalho\"] = ref.V9057\n",
    "d1[\"recebe auxílio para transporte\"] = ref.V9045\n",
    "\n",
    "d1.head()"
   ]
  },
  {
   "cell_type": "markdown",
   "metadata": {},
   "source": [
    "## <font color='grey'> Frequências relativas: condição de atividade no trabalho, alfabetização, nível de instrução"
   ]
  },
  {
   "cell_type": "code",
   "execution_count": 193,
   "metadata": {
    "collapsed": false
   },
   "outputs": [
    {
     "name": "stdout",
     "output_type": "stream",
     "text": [
      "Frequências relativas por condição de trabalho dos aposentados:\n",
      "não ativos economicamente    7.5\n",
      "economicamente ativos        3.1\n",
      "dtype: float64 \n",
      "\n"
     ]
    }
   ],
   "source": [
    "d.condicao = ap.V4713.astype('category')\n",
    "d.condicao.cat.categories = ('economicamente ativos', 'não ativos economicamente')\n",
    "\n",
    "n = dados.shape[0]\n",
    "\n",
    "list(dados)\n",
    "\n",
    "print('Frequências relativas por condição de trabalho dos aposentados:')\n",
    "ut1 = (d.condicao.value_counts()/n*100).round(decimals=1)\n",
    "print(ut1,'\\n')"
   ]
  },
  {
   "cell_type": "code",
   "execution_count": 194,
   "metadata": {
    "collapsed": false
   },
   "outputs": [
    {
     "name": "stdout",
     "output_type": "stream",
     "text": [
      "Frequências relativas por condição de trabalho dos não aposentados:\n",
      "economicamente ativos        23.5\n",
      "não ativos economicamente     3.9\n",
      "dtype: float64 \n",
      "\n"
     ]
    }
   ],
   "source": [
    "d1.condicao = ref.V4713.astype('category')\n",
    "d1.condicao.cat.categories = ('economicamente ativos', 'não ativos economicamente')\n",
    "\n",
    "print('Frequências relativas por condição de trabalho dos não aposentados:')\n",
    "ut2 = (d1.condicao.value_counts()/n*100).round(decimals=1)\n",
    "print(ut2,'\\n')"
   ]
  },
  {
   "cell_type": "code",
   "execution_count": 218,
   "metadata": {
    "collapsed": false
   },
   "outputs": [
    {
     "name": "stdout",
     "output_type": "stream",
     "text": [
      "Frequências relativas por alfabetização dos aposentados:\n",
      "sim    8.3\n",
      "não    2.3\n",
      "dtype: float64 \n",
      "\n"
     ]
    }
   ],
   "source": [
    "d.sabe = ap.V0601.astype('category')\n",
    "d.sabe.cat.categories = ('sim', 'não')\n",
    "\n",
    "print('Frequências relativas por alfabetização dos aposentados:')\n",
    "ut3 = (d.sabe.value_counts()/n*100).round(decimals=1)\n",
    "print(ut3,'\\n')"
   ]
  },
  {
   "cell_type": "code",
   "execution_count": 219,
   "metadata": {
    "collapsed": false
   },
   "outputs": [
    {
     "name": "stdout",
     "output_type": "stream",
     "text": [
      "Frequências relativas por alfabetização dos não aposentados:\n",
      "sim    25.4\n",
      "não     2.1\n",
      "dtype: float64 \n",
      "\n"
     ]
    }
   ],
   "source": [
    "d1.sabe = ref.V0601.astype('category')\n",
    "d1.sabe.cat.categories = ('sim', 'não')\n",
    "\n",
    "print('Frequências relativas por alfabetização dos não aposentados:')\n",
    "ut4 = (d1.sabe.value_counts()/n*100).round(decimals=1)\n",
    "print(ut4,'\\n')"
   ]
  },
  {
   "cell_type": "code",
   "execution_count": 220,
   "metadata": {
    "collapsed": false
   },
   "outputs": [
    {
     "name": "stdout",
     "output_type": "stream",
     "text": [
      "Frequências relativas por nível de instrução dos aposentados:\n",
      "Fundamental incompleto ou equivalente    4.4\n",
      "Sem instrução                            2.7\n",
      "Médio completo ou equivalente            1.4\n",
      "Superior completo                        1.1\n",
      "Fundamental completo ou equivalente      0.7\n",
      "Médio incompleto ou equivalente          0.2\n",
      "Superior incompleto ou equivalente       0.1\n",
      "Não determinado                          0.0\n",
      "dtype: float64 \n",
      "\n"
     ]
    }
   ],
   "source": [
    "d.nivel = ap.V4745.astype('category')\n",
    "d.nivel.cat.categories = ('Sem instrução', \n",
    "                          'Fundamental incompleto ou equivalente',\n",
    "                          'Fundamental completo ou equivalente',\n",
    "                          'Médio incompleto ou equivalente', \n",
    "                          'Médio completo ou equivalente',\n",
    "                          'Superior incompleto ou equivalente',\n",
    "                          'Superior completo',\n",
    "                          'Não determinado')\n",
    "\n",
    "print('Frequências relativas por nível de instrução dos aposentados:')\n",
    "ut5 = (d.nivel.value_counts()/n*100).round(decimals=1)\n",
    "print(ut5,'\\n')"
   ]
  },
  {
   "cell_type": "code",
   "execution_count": 222,
   "metadata": {
    "collapsed": false
   },
   "outputs": [
    {
     "name": "stdout",
     "output_type": "stream",
     "text": [
      "Frequências relativas por nível de instrução dos não aposentados:\n",
      "Fundamental incompleto ou equivalente    8.6\n",
      "Médio completo ou equivalente            7.5\n",
      "Superior completo                        3.2\n",
      "Fundamental completo ou equivalente      2.9\n",
      "Sem instrução                            2.4\n",
      "Médio incompleto ou equivalente          1.6\n",
      "Superior incompleto ou equivalente       1.2\n",
      "Não determinado                          0.1\n",
      "dtype: float64 \n",
      "\n"
     ]
    }
   ],
   "source": [
    "d1.nivel = ref.V4745.astype('category')\n",
    "d1.nivel.cat.categories = ('Sem instrução', \n",
    "                          'Fundamental incompleto ou equivalente',\n",
    "                          'Fundamental completo ou equivalente',\n",
    "                          'Médio incompleto ou equivalente', \n",
    "                          'Médio completo ou equivalente',\n",
    "                          'Superior incompleto ou equivalente',\n",
    "                          'Superior completo',\n",
    "                          'Não determinado')\n",
    "\n",
    "print('Frequências relativas por nível de instrução dos não aposentados:')\n",
    "ut6 = (d1.nivel.value_counts()/n*100).round(decimals=1)\n",
    "print(ut6,'\\n')"
   ]
  },
  {
   "cell_type": "markdown",
   "metadata": {},
   "source": [
    "## <font color='darkgreen'> Gráfico: nível de alfabetização dos aposentados"
   ]
  },
  {
   "cell_type": "code",
   "execution_count": 228,
   "metadata": {
    "collapsed": false
   },
   "outputs": [
    {
     "data": {
      "text/plain": [
       "<matplotlib.text.Text at 0x200002567f0>"
      ]
     },
     "execution_count": 228,
     "metadata": {},
     "output_type": "execute_result"
    },
    {
     "data": {
      "image/png": "[encoded data removed]",
      "text/plain": [
       "<matplotlib.figure.Figure at 0x2003895d6a0>"
      ]
     },
     "metadata": {},
     "output_type": "display_data"
    }
   ],
   "source": [
    "plot = ut3.plot(kind='bar',title=' ',figsize=(6, 6),color=('pink'))\n",
    "plt.ylabel('Freq.Relativa (em%)')\n",
    "plt.xlabel('Alfabetização')"
   ]
  },
  {
   "cell_type": "markdown",
   "metadata": {},
   "source": [
    "## <font color='darkgreen'> Gráfico: nível de alfabetização dos não aposentados"
   ]
  },
  {
   "cell_type": "code",
   "execution_count": 229,
   "metadata": {
    "collapsed": false
   },
   "outputs": [
    {
     "data": {
      "text/plain": [
       "<matplotlib.text.Text at 0x20038963128>"
      ]
     },
     "execution_count": 229,
     "metadata": {},
     "output_type": "execute_result"
    },
    {
     "data": {
      "image/png": "[encoded data removed]",
      "text/plain": [
       "<matplotlib.figure.Figure at 0x20037583400>"
      ]
     },
     "metadata": {},
     "output_type": "display_data"
    }
   ],
   "source": [
    "plot = ut4.plot(kind='bar',title=' ',figsize=(6, 6),color=('pink'))\n",
    "plt.ylabel('Freq.Relativa (em%)')\n",
    "plt.xlabel('Alfabetização')"
   ]
  },
  {
   "cell_type": "markdown",
   "metadata": {},
   "source": [
    "## <font color='olivedrab'> Gráfico: nível de instrução dos aposentados"
   ]
  },
  {
   "cell_type": "code",
   "execution_count": 225,
   "metadata": {
    "collapsed": false
   },
   "outputs": [
    {
     "data": {
      "text/plain": [
       "<matplotlib.text.Text at 0x2002f914630>"
      ]
     },
     "execution_count": 225,
     "metadata": {},
     "output_type": "execute_result"
    },
    {
     "data": {
      "image/png": "[encoded data removed]",
      "text/plain": [
       "<matplotlib.figure.Figure at 0x20037c10da0>"
      ]
     },
     "metadata": {},
     "output_type": "display_data"
    }
   ],
   "source": [
    "plot = ut5.plot(kind='bar',title=' ',figsize=(6, 6),color=('r'))\n",
    "plt.ylabel('Freq.Relativa (em%)')\n",
    "plt.xlabel('Nível de instrução')"
   ]
  },
  {
   "cell_type": "markdown",
   "metadata": {},
   "source": [
    "## <font color='olivedrab'> Gráfico: nível de instrução dos não aposentados"
   ]
  },
  {
   "cell_type": "code",
   "execution_count": 224,
   "metadata": {
    "collapsed": false
   },
   "outputs": [
    {
     "data": {
      "text/plain": [
       "<matplotlib.text.Text at 0x20037414160>"
      ]
     },
     "execution_count": 224,
     "metadata": {},
     "output_type": "execute_result"
    },
    {
     "data": {
      "image/png": "[encoded data removed]",
      "text/plain": [
       "<matplotlib.figure.Figure at 0x2003774f240>"
      ]
     },
     "metadata": {},
     "output_type": "display_data"
    }
   ],
   "source": [
    "plot = ut6.plot(kind='bar',title=' ',figsize=(6, 6),color=('r'))\n",
    "plt.ylabel('Freq.Relativa (em%)')\n",
    "plt.xlabel('Nível de instrução')"
   ]
  },
  {
   "cell_type": "markdown",
   "metadata": {},
   "source": [
    "## <font color='tear'> Gráfico: condição de trabalho dos aposentados"
   ]
  },
  {
   "cell_type": "code",
   "execution_count": 195,
   "metadata": {
    "collapsed": false
   },
   "outputs": [
    {
     "data": {
      "text/plain": [
       "<matplotlib.text.Text at 0x2002f8001d0>"
      ]
     },
     "execution_count": 195,
     "metadata": {},
     "output_type": "execute_result"
    },
    {
     "data": {
      "image/png": "[encoded data removed]",
      "text/plain": [
       "<matplotlib.figure.Figure at 0x2002f7fe1d0>"
      ]
     },
     "metadata": {},
     "output_type": "display_data"
    }
   ],
   "source": [
    "plot = ut1.plot(kind='bar',title=' ',figsize=(6, 6),color=('k','c'))\n",
    "plt.ylabel('Freq.Relativa (em%)')\n",
    "plt.xlabel('Condição de trabalho')"
   ]
  },
  {
   "cell_type": "markdown",
   "metadata": {},
   "source": [
    "## <font color='tear'> Gráfico: condição de trabalho dos não aposentados"
   ]
  },
  {
   "cell_type": "code",
   "execution_count": 196,
   "metadata": {
    "collapsed": false
   },
   "outputs": [
    {
     "data": {
      "text/plain": [
       "<matplotlib.text.Text at 0x2002f811a90>"
      ]
     },
     "execution_count": 196,
     "metadata": {},
     "output_type": "execute_result"
    },
    {
     "data": {
      "image/png": "[encoded data removed]",
      "text/plain": [
       "<matplotlib.figure.Figure at 0x2000039aef0>"
      ]
     },
     "metadata": {},
     "output_type": "display_data"
    }
   ],
   "source": [
    "plot = ut2.plot(kind='bar',title='Condição de trabalho dos não aposentados',figsize=(6, 6),color=('c','k'))\n",
    "plt.ylabel('Freq.Relativa (em%)')\n",
    "plt.xlabel('Condição de trabalho')"
   ]
  },
  {
   "cell_type": "markdown",
   "metadata": {},
   "source": [
    "Comparando os dois histogramas, têm-se que a maioria dos aposentados não são ativos economicamente, enquanto os não aposentados são, em sua maioria, economicamente ativos. Um dos motivos para isso acontecer é a perda de direitos que os aposentados têm ao continuar trabalhando.\n",
    "\n",
    "O aposentado que continua trabalhando é obrigado a continuar contribuindo com a Previdência, mas não tem acesso aos mesmos direitos de uma pessoa ativa. É como se a aposentadoria o \"impedisse\" de receber outros benefícios.\n",
    "\n",
    "Em uma época de dificuldade para encontrar emprego, ainda mais em idade avançada, esse é mais um fator que não estimula os aposentados a continuarem economicamente ativos.\n",
    "\n",
    "Além disso, com os dados apresentados acima, pode-se concluir que os aposentados tem uma porcentagem menor de alfabetizados e apenas 1,1% deles têm superior completo, contra 3,2% dos não aposentados com superior completo.\n",
    "\n",
    "Todos esses fatores dificultam a entrada do aposentado no mercado de trabalho."
   ]
  },
  {
   "cell_type": "markdown",
   "metadata": {},
   "source": [
    "## <font color='tomato'> Frequências relativas: tempo gasto da residência ao trabalho"
   ]
  },
  {
   "cell_type": "code",
   "execution_count": 197,
   "metadata": {
    "collapsed": false
   },
   "outputs": [
    {
     "name": "stdout",
     "output_type": "stream",
     "text": [
      "Frequência relativa do tempo da residência ao trabalho dos aposentados: \n",
      "até 30 minutos           0.9\n",
      "mais de 30 até 1 hora    0.3\n",
      "mais de 1 até 2 horas    0.1\n",
      "mais de 2 horas          0.0\n",
      "dtype: float64 \n",
      "\n"
     ]
    }
   ],
   "source": [
    "ap.tempo = ap.V9057.astype('category')\n",
    "ap.tempo.cat.categories = ('até 30 minutos', \n",
    "                          'mais de 30 até 1 hora',\n",
    "                          'mais de 1 até 2 horas',\n",
    "                          'mais de 2 horas')\n",
    "\n",
    "ut3 = (ap.tempo.value_counts()/n*100).round(decimals=1)\n",
    "print(\"Frequência relativa do tempo da residência ao trabalho dos aposentados: \")\n",
    "print(ut3,'\\n')"
   ]
  },
  {
   "cell_type": "code",
   "execution_count": 198,
   "metadata": {
    "collapsed": false
   },
   "outputs": [
    {
     "name": "stdout",
     "output_type": "stream",
     "text": [
      "Frequência relativa do tempo da residência ao trabalho dos não aposentados: \n",
      "até 30 minutos           11.1\n",
      "mais de 30 até 1 hora     4.0\n",
      "mais de 1 até 2 horas     1.5\n",
      "mais de 2 horas           0.4\n",
      "dtype: float64 \n",
      "\n"
     ]
    }
   ],
   "source": [
    "ref.tempo = ref.V9057.astype('category')\n",
    "ref.tempo.cat.categories = ('até 30 minutos', \n",
    "                          'mais de 30 até 1 hora',\n",
    "                          'mais de 1 até 2 horas',\n",
    "                          'mais de 2 horas')\n",
    "\n",
    "ut4 = (ref.tempo.value_counts()/n*100).round(decimals=1)\n",
    "print(\"Frequência relativa do tempo da residência ao trabalho dos não aposentados: \")\n",
    "print(ut4,'\\n')"
   ]
  },
  {
   "cell_type": "markdown",
   "metadata": {},
   "source": [
    "## <font color='skyblue'> Gráficos: tempo gasto da residência ao trabalho"
   ]
  },
  {
   "cell_type": "code",
   "execution_count": 199,
   "metadata": {
    "collapsed": false
   },
   "outputs": [
    {
     "data": {
      "image/png": "[encoded data removed]",
      "text/plain": [
       "<matplotlib.figure.Figure at 0x200003bf5c0>"
      ]
     },
     "metadata": {},
     "output_type": "display_data"
    }
   ],
   "source": [
    "plot = ut3.plot(kind='pie', title='Tempo de ida ao trabalho (dos aposentados que trabalham)',\n",
    "                autopct='%.1f', figsize=(6,6))"
   ]
  },
  {
   "cell_type": "code",
   "execution_count": 200,
   "metadata": {
    "collapsed": false
   },
   "outputs": [
    {
     "data": {
      "image/png": "[encoded data removed]",
      "text/plain": [
       "<matplotlib.figure.Figure at 0x20038140438>"
      ]
     },
     "metadata": {},
     "output_type": "display_data"
    }
   ],
   "source": [
    "plot = ut4.plot(kind='pie', title='Tempo de ida ao trabalho (não aposentados)',autopct='%.1f', figsize=(6,6))"
   ]
  },
  {
   "cell_type": "markdown",
   "metadata": {},
   "source": [
    "Apesar de a grande maioria dos aposentados não trabalharem, os que trabalham demoram um tempo curto de deslocamento, o que é um bom indicativo."
   ]
  },
  {
   "cell_type": "markdown",
   "metadata": {},
   "source": [
    "## <font color='salmon'> Histograma: anos de estudo dos aposentados"
   ]
  },
  {
   "cell_type": "code",
   "execution_count": 201,
   "metadata": {
    "collapsed": false
   },
   "outputs": [
    {
     "data": {
      "image/png": "[encoded data removed]",
      "text/plain": [
       "<matplotlib.figure.Figure at 0x20037c0cef0>"
      ]
     },
     "metadata": {},
     "output_type": "display_data"
    }
   ],
   "source": [
    "plot = ap.V4803.plot(kind='hist', color=('darkgreen')) "
   ]
  },
  {
   "cell_type": "markdown",
   "metadata": {},
   "source": [
    "## <font color='salmon'> Histograma: anos de estudo dos não aposentados"
   ]
  },
  {
   "cell_type": "code",
   "execution_count": 202,
   "metadata": {
    "collapsed": false
   },
   "outputs": [
    {
     "data": {
      "image/png": "[encoded data removed]",
      "text/plain": [
       "<matplotlib.figure.Figure at 0x200374f45c0>"
      ]
     },
     "metadata": {},
     "output_type": "display_data"
    }
   ],
   "source": [
    "plot = ref.V4803.plot(kind='hist', color=('darkgreen')) "
   ]
  },
  {
   "cell_type": "markdown",
   "metadata": {},
   "source": [
    "Os aposentados, naturalmente, já têm obstáculos ao tentar ingressar no mercado de trabalho devido à idade, dificuldade de entrosamento no novo emprego, menor flexibilidade etc. \n",
    "\n",
    "Além disso, os histogramas apontam que, numa média, os aposentados têm menor tempo de estudo, outro fator que influencia a inserção no mercado de trabalho.\n",
    "\n",
    "(http://economia.uol.com.br/blogs-e-colunas/coluna/daniela-lago/2014/08/12/dilemas-da-idade-no-mercado-de-trabalho.htm)\n"
   ]
  },
  {
   "cell_type": "code",
   "execution_count": 203,
   "metadata": {
    "collapsed": false
   },
   "outputs": [],
   "source": [
    "trabalham1 = ap[ap.V4713 == 1]\n",
    "trabalham2 = ref[ref.V4713 == 1]\n",
    "\n",
    "auxilio1 = ap[ap.V9045 == 1]\n",
    "auxilio2 = ref[ref.V9045 == 1]"
   ]
  },
  {
   "cell_type": "code",
   "execution_count": 204,
   "metadata": {
    "collapsed": false
   },
   "outputs": [],
   "source": [
    "df = pd.DataFrame({\"trabalham\": pd.Series({\"aposentados\": trabalham1.V4713.count(), \n",
    "                                           \"não aposentados\": trabalham2.V4713.count()}),\n",
    "                   \"ganham auxílio transporte\": pd.Series({\"aposentados\": auxilio1.V9045.count(), \n",
    "                                                           \"não aposentados\": auxilio2.V9045.count()})})"
   ]
  },
  {
   "cell_type": "markdown",
   "metadata": {},
   "source": [
    "## <font color='navy'> Gráfico: economicamente ativos e o auxílio transporte"
   ]
  },
  {
   "cell_type": "code",
   "execution_count": 205,
   "metadata": {
    "collapsed": false
   },
   "outputs": [
    {
     "data": {
      "image/png": "[encoded data removed]",
      "text/plain": [
       "<matplotlib.figure.Figure at 0x200376352e8>"
      ]
     },
     "metadata": {},
     "output_type": "display_data"
    }
   ],
   "source": [
    "plot = df.plot(kind='bar', color=('gold','royalblue'))"
   ]
  },
  {
   "cell_type": "markdown",
   "metadata": {},
   "source": [
    "## <font color='teal'> Tabela cruzada: aposentados economicamente ativos e auxílio transporte"
   ]
  },
  {
   "cell_type": "code",
   "execution_count": 206,
   "metadata": {
    "collapsed": false
   },
   "outputs": [
    {
     "name": "stdout",
     "output_type": "stream",
     "text": [
      "Tabela cruzada: \n"
     ]
    },
    {
     "data": {
      "text/html": [
       "<div>\n",
       "<table border=\"1\" class=\"dataframe\">\n",
       "  <thead>\n",
       "    <tr style=\"text-align: right;\">\n",
       "      <th>recebe auxílio transporte</th>\n",
       "      <th>sim</th>\n",
       "      <th>não</th>\n",
       "    </tr>\n",
       "    <tr>\n",
       "      <th>condição de trabalho</th>\n",
       "      <th></th>\n",
       "      <th></th>\n",
       "    </tr>\n",
       "  </thead>\n",
       "  <tbody>\n",
       "    <tr>\n",
       "      <th>economicamente ativo</th>\n",
       "      <td>828</td>\n",
       "      <td>2008</td>\n",
       "    </tr>\n",
       "    <tr>\n",
       "      <th>não ativo economicamente</th>\n",
       "      <td>0</td>\n",
       "      <td>0</td>\n",
       "    </tr>\n",
       "  </tbody>\n",
       "</table>\n",
       "</div>"
      ],
      "text/plain": [
       "recebe auxílio transporte  sim   não\n",
       "condição de trabalho                \n",
       "economicamente ativo       828  2008\n",
       "não ativo economicamente     0     0"
      ]
     },
     "execution_count": 206,
     "metadata": {},
     "output_type": "execute_result"
    }
   ],
   "source": [
    "d.condicao = ap.V4713.astype('category')\n",
    "d.condicao.cat.categories = ('economicamente ativo', 'não ativo economicamente')\n",
    "\n",
    "d.recebe = ap.V9045.astype('category')\n",
    "d.recebe.cat.categories = ('sim', 'não')\n",
    "\n",
    "print(\"Tabela cruzada: \")\n",
    "ct=pd.crosstab(d.condicao,d.recebe,margins=False,rownames=['condição de trabalho'],colnames=[\"recebe auxílio transporte\"])\n",
    "ct"
   ]
  },
  {
   "cell_type": "markdown",
   "metadata": {},
   "source": [
    "## <font color='teal'> Tabela cruzada: não aposentados economicamente ativos e auxílio transporte"
   ]
  },
  {
   "cell_type": "code",
   "execution_count": 207,
   "metadata": {
    "collapsed": false
   },
   "outputs": [
    {
     "name": "stdout",
     "output_type": "stream",
     "text": [
      "Tabela cruzada: \n"
     ]
    },
    {
     "data": {
      "text/html": [
       "<div>\n",
       "<table border=\"1\" class=\"dataframe\">\n",
       "  <thead>\n",
       "    <tr style=\"text-align: right;\">\n",
       "      <th>recebe auxílio transporte</th>\n",
       "      <th>sim</th>\n",
       "      <th>não</th>\n",
       "    </tr>\n",
       "    <tr>\n",
       "      <th>condição de trabalho</th>\n",
       "      <th></th>\n",
       "      <th></th>\n",
       "    </tr>\n",
       "  </thead>\n",
       "  <tbody>\n",
       "    <tr>\n",
       "      <th>economicamente ativos</th>\n",
       "      <td>21185</td>\n",
       "      <td>31674</td>\n",
       "    </tr>\n",
       "    <tr>\n",
       "      <th>não ativos economicamente</th>\n",
       "      <td>0</td>\n",
       "      <td>0</td>\n",
       "    </tr>\n",
       "  </tbody>\n",
       "</table>\n",
       "</div>"
      ],
      "text/plain": [
       "recebe auxílio transporte    sim    não\n",
       "condição de trabalho                   \n",
       "economicamente ativos      21185  31674\n",
       "não ativos economicamente      0      0"
      ]
     },
     "execution_count": 207,
     "metadata": {},
     "output_type": "execute_result"
    }
   ],
   "source": [
    "d1.recebe = ref.V9045.astype('category')\n",
    "d1.recebe.cat.categories = ('sim', 'não')\n",
    "\n",
    "print(\"Tabela cruzada: \")\n",
    "ct=pd.crosstab(d1.condicao,d1.recebe,margins=False,rownames=['condição de trabalho'],colnames=[\"recebe auxílio transporte\"])\n",
    "ct"
   ]
  },
  {
   "cell_type": "code",
   "execution_count": 231,
   "metadata": {
    "collapsed": false
   },
   "outputs": [],
   "source": [
    "rendasap = d[ap.V4750 < 900000000000]"
   ]
  },
  {
   "cell_type": "code",
   "execution_count": 232,
   "metadata": {
    "collapsed": false
   },
   "outputs": [],
   "source": [
    "rendasref = d1[ref.V4750 < 900000000000]"
   ]
  },
  {
   "cell_type": "code",
   "execution_count": 233,
   "metadata": {
    "collapsed": false
   },
   "outputs": [
    {
     "data": {
      "text/plain": [
       "41.235059760956176"
      ]
     },
     "execution_count": 233,
     "metadata": {},
     "output_type": "execute_result"
    }
   ],
   "source": [
    "# Porcentagem dos aposentados que trabalham e ganham auxílio transporte\n",
    "\n",
    "porcentagem1 = (828/2008)*100\n",
    "porcentagem1"
   ]
  },
  {
   "cell_type": "code",
   "execution_count": 234,
   "metadata": {
    "collapsed": false
   },
   "outputs": [
    {
     "data": {
      "text/plain": [
       "66.88451095535771"
      ]
     },
     "execution_count": 234,
     "metadata": {},
     "output_type": "execute_result"
    }
   ],
   "source": [
    "# Porcentagem dos não aposentados que trabalham e ganham auxílio transporte\n",
    "\n",
    "porcentagem2 = (21185/31674)*100\n",
    "porcentagem2"
   ]
  },
  {
   "cell_type": "markdown",
   "metadata": {},
   "source": [
    "O gráfico, as tabelas cruzadas e as porcentagens indicam que a quantidade de aposentados que são ativos economicamente é pequena (como já analisado anteriormente). Dentre esses poucos que trabalham, apenas 41,23% recebe auxílio transporte. \n",
    "\n",
    "Dos não aposentados que trabalham, cerca de 67% recebe auxílio transporte."
   ]
  },
  {
   "cell_type": "markdown",
   "metadata": {},
   "source": [
    "## <font color='yellowgreen'> Médias das rendas mensais familiar per capita"
   ]
  },
  {
   "cell_type": "code",
   "execution_count": 235,
   "metadata": {
    "collapsed": false
   },
   "outputs": [
    {
     "data": {
      "text/plain": [
       "1531.4806911119535"
      ]
     },
     "execution_count": 235,
     "metadata": {},
     "output_type": "execute_result"
    }
   ],
   "source": [
    "# Aposentados\n",
    "rendasap.renda.mean()"
   ]
  },
  {
   "cell_type": "code",
   "execution_count": 236,
   "metadata": {
    "collapsed": false
   },
   "outputs": [
    {
     "data": {
      "text/plain": [
       "1109.592488301793"
      ]
     },
     "execution_count": 236,
     "metadata": {},
     "output_type": "execute_result"
    }
   ],
   "source": [
    "# Não aposentados\n",
    "rendasref.renda.mean()"
   ]
  },
  {
   "cell_type": "markdown",
   "metadata": {},
   "source": [
    "## <font color='crimson'> Medianas: rendas familiares per capita"
   ]
  },
  {
   "cell_type": "code",
   "execution_count": 237,
   "metadata": {
    "collapsed": false
   },
   "outputs": [
    {
     "data": {
      "text/plain": [
       "886.0"
      ]
     },
     "execution_count": 237,
     "metadata": {},
     "output_type": "execute_result"
    }
   ],
   "source": [
    "# Aposentados\n",
    "rendasap.renda.median()"
   ]
  },
  {
   "cell_type": "code",
   "execution_count": 238,
   "metadata": {
    "collapsed": false
   },
   "outputs": [
    {
     "data": {
      "text/plain": [
       "688.0"
      ]
     },
     "execution_count": 238,
     "metadata": {},
     "output_type": "execute_result"
    }
   ],
   "source": [
    "# Não aposentados\n",
    "rendasref.renda.median()"
   ]
  },
  {
   "cell_type": "markdown",
   "metadata": {},
   "source": [
    "## <font color='orange'> Boxplot: renda familiar mensal per capita dos aposentados"
   ]
  },
  {
   "cell_type": "code",
   "execution_count": 239,
   "metadata": {
    "collapsed": false
   },
   "outputs": [
    {
     "data": {
      "image/png": "[encoded data removed]",
      "text/plain": [
       "<matplotlib.figure.Figure at 0x2002f80e780>"
      ]
     },
     "metadata": {},
     "output_type": "display_data"
    }
   ],
   "source": [
    "plot = rendasap.renda.plot(kind='box', ylim=(0,2690))"
   ]
  },
  {
   "cell_type": "markdown",
   "metadata": {},
   "source": [
    "## <font color='orange'> Boxplot: renda familiar mensal per capita dos não aposentados"
   ]
  },
  {
   "cell_type": "code",
   "execution_count": 240,
   "metadata": {
    "collapsed": false
   },
   "outputs": [
    {
     "data": {
      "image/png": "[encoded data removed]",
      "text/plain": [
       "<matplotlib.figure.Figure at 0x200373e7a20>"
      ]
     },
     "metadata": {},
     "output_type": "display_data"
    }
   ],
   "source": [
    "plot = rendasref.renda.plot(kind='box', ylim=(0,2500))"
   ]
  },
  {
   "cell_type": "markdown",
   "metadata": {},
   "source": [
    "   A média e a mediana da renda familiar per capita dos aposentados é maior que a renda familiar per capita dos não aposentados, mas mesmo assim não há uma grande diferença entre elas, o que é um bom indicativo. \n",
    "   \n",
    "   Segundo uma pesquisa baseada numa dissertação de mestrado de Economia do Insper, 95% dos brasileiros não precisariam poupar durante a idade ativa para garantir o mesmo padrão de vida depois de se aposentarem. E, mesmo sem poupar, a tendência seria que a renda per capita aumentasse com a aposentadoria. Tal sinal é refletido nas amostras acima.\n",
    "\n",
    "(http://www.insper.edu.br/conhecimento/financas-e-contabilidade/brasileiro-poupa-suficiente-aposentadoria/?utm_source=facebook&utm_medium=post&utm_campaign=PrevidBrito_2508)\n"
   ]
  },
  {
   "cell_type": "markdown",
   "metadata": {
    "collapsed": false
   },
   "source": [
    "___\n",
    "## Conclusão "
   ]
  },
  {
   "cell_type": "markdown",
   "metadata": {
    "collapsed": true
   },
   "source": [
    "Descreva aqui suas conclusões!"
   ]
  },
  {
   "cell_type": "markdown",
   "metadata": {
    "collapsed": true
   },
   "source": [
    "Ao final dessa análise de dados, tem-se que é relativo afirmar se os aposentados estão melhores ou piores. Cabe aqui, a avaliação das variáveis de forma individual. \n",
    "\n",
    "Por exemplo, investigando a renda familiar mensal per capita, os aposentados tendem a estar melhores.\n",
    "Enquanto isso, analisando os dados de recebimento de auxílio transporte aos que trabalham, os aposentados estão piores, visto que apenas pouco mais de 40% o recebe.\n"
   ]
  }
 ],
 "metadata": {
  "anaconda-cloud": {},
  "kernelspec": {
   "display_name": "Python 3",
   "language": "python",
   "name": "python3"
  },
  "language_info": {
   "codemirror_mode": {
    "name": "ipython",
    "version": 3
   },
   "file_extension": ".py",
   "mimetype": "text/x-python",
   "name": "python",
   "nbconvert_exporter": "python",
   "pygments_lexer": "ipython3",
   "version": "3.5.1"
  }
 },
 "nbformat": 4,
 "nbformat_minor": 0
}
