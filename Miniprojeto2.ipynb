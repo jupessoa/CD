{
 "cells": [
  {
   "cell_type": "markdown",
   "metadata": {},
   "source": [
    "## Juliana Pessoa e Vitória Rocha - 2B"
   ]
  },
  {
   "cell_type": "markdown",
   "metadata": {},
   "source": [
    "OBJETIVO:\n",
    "\n",
    "O objetivo deste miniprojeto é que o aluno seja capaz de compreender e explicar o\n",
    "resultado do Teorema do Limite Central (TLC) por meio de simulação, uma vez que a\n",
    "demonstração teórica é complexa e requer conhecimento de outras teorias avançadas."
   ]
  },
  {
   "cell_type": "code",
   "execution_count": 74,
   "metadata": {
    "collapsed": true
   },
   "outputs": [],
   "source": [
    "%matplotlib inline\n",
    "import matplotlib.pyplot as plt\n",
    "import numpy as np\n",
    "import os\n",
    "from scipy import stats\n",
    "import random\n",
    "import warnings\n",
    "warnings.filterwarnings('ignore')"
   ]
  },
  {
   "cell_type": "code",
   "execution_count": 75,
   "metadata": {
    "collapsed": false
   },
   "outputs": [
    {
     "data": {
      "text/plain": [
       "array([ 4.08276391,  5.88850935,  4.07077807, ...,  4.99140738,\n",
       "        4.10473108,  5.32038441])"
      ]
     },
     "execution_count": 75,
     "metadata": {},
     "output_type": "execute_result"
    }
   ],
   "source": [
    "#Exponencial - parâmetros da população e sorteio aleatório do tamanho da amostra\n",
    "\n",
    "alpha = 4\n",
    "\n",
    "variavel = stats.expon.rvs(alpha, size=1000000)\n",
    "variavel"
   ]
  },
  {
   "cell_type": "code",
   "execution_count": 76,
   "metadata": {
    "collapsed": false
   },
   "outputs": [
    {
     "name": "stdout",
     "output_type": "stream",
     "text": [
      "Média populacional: 0.25\n"
     ]
    }
   ],
   "source": [
    "mu = 1/alpha\n",
    "print(\"Média populacional:\", mu)"
   ]
  },
  {
   "cell_type": "code",
   "execution_count": 77,
   "metadata": {
    "collapsed": false
   },
   "outputs": [
    {
     "name": "stdout",
     "output_type": "stream",
     "text": [
      "Variância populacional: 0.0625\n"
     ]
    }
   ],
   "source": [
    "var = 1/(alpha)**2\n",
    "print(\"Variância populacional:\", var)"
   ]
  },
  {
   "cell_type": "code",
   "execution_count": 78,
   "metadata": {
    "collapsed": false
   },
   "outputs": [
    {
     "name": "stdout",
     "output_type": "stream",
     "text": [
      "Para n = 2 :\n",
      "X̅ - média amostral: 5.01078028587\n",
      "μ - média das médias amostrais: 5.01078028587\n",
      "σ²/var - variância das médias amostrais: 0.516038916362\n"
     ]
    },
    {
     "data": {
      "text/plain": [
       "(array([ 2604.,  3277.,  2067.,  1129.,   516.,   231.,    94.,    41.,\n",
       "           24.]),\n",
       " array([ 4. ,  4.5,  5. ,  5.5,  6. ,  6.5,  7. ,  7.5,  8. ,  8.5]),\n",
       " <a list of 9 Patch objects>)"
      ]
     },
     "execution_count": 78,
     "metadata": {},
     "output_type": "execute_result"
    },
    {
     "data": {
      "image/png": "[encoded data removed]",
      "text/plain": [
       "<matplotlib.figure.Figure at 0x163ed7009e8>"
      ]
     },
     "metadata": {},
     "output_type": "display_data"
    }
   ],
   "source": [
    "#Construindo a distribuição da média amostral\n",
    "\n",
    "n=2\n",
    "medias=[]\n",
    "\n",
    "for i in range(10000):\n",
    "\n",
    "    random_exemplo = np.random.choice(variavel, size=n)\n",
    "\n",
    "    media_amostral=np.mean(random_exemplo)\n",
    "\n",
    "    medias.append(media_amostral)\n",
    "    \n",
    "print(\"Para n =\",n,\":\")\n",
    "print(\"X̅ - média amostral:\", np.mean(medias))\n",
    "print(\"μ - média das médias amostrais:\", np.mean(medias))\n",
    "print(\"σ²/var - variância das médias amostrais:\", np.var(medias))\n",
    "\n",
    "hist = plt.hist(medias, bins = np.arange(4,9,0.5), color=\"pink\")\n",
    "hist"
   ]
  },
  {
   "cell_type": "code",
   "execution_count": 79,
   "metadata": {
    "collapsed": false
   },
   "outputs": [
    {
     "name": "stdout",
     "output_type": "stream",
     "text": [
      "Para n = 4 :\n",
      "X̅ - média amostral: 4.99979127843\n",
      "μ - média das médias amostrais: 4.99979127843\n",
      "σ²/var - variância das médias amostrais: 0.252492024099\n"
     ]
    },
    {
     "data": {
      "text/plain": [
       "(array([ 1475.,  4194.,  2804.,  1081.,   341.,    79.,    25.]),\n",
       " array([ 4. ,  4.5,  5. ,  5.5,  6. ,  6.5,  7. ,  7.5]),\n",
       " <a list of 7 Patch objects>)"
      ]
     },
     "execution_count": 79,
     "metadata": {},
     "output_type": "execute_result"
    },
    {
     "data": {
      "image/png": "[encoded data removed]",
      "text/plain": [
       "<matplotlib.figure.Figure at 0x163ed73c4a8>"
      ]
     },
     "metadata": {},
     "output_type": "display_data"
    }
   ],
   "source": [
    "n=4\n",
    "medias=[]\n",
    "\n",
    "for i in range(10000):\n",
    "\n",
    "    random_exemplo = np.random.choice(variavel, size=n)\n",
    "\n",
    "    media_amostral=np.mean(random_exemplo)\n",
    "\n",
    "    medias.append(media_amostral)\n",
    "    \n",
    "print(\"Para n =\",n,\":\")\n",
    "print(\"X̅ - média amostral:\", np.mean(medias))\n",
    "print(\"μ - média das médias amostrais:\", np.mean(medias))\n",
    "print(\"σ²/var - variância das médias amostrais:\", np.var(medias))\n",
    "\n",
    "hist = plt.hist(medias, bins = np.arange(4,8,0.5), color=\"c\")\n",
    "hist"
   ]
  },
  {
   "cell_type": "code",
   "execution_count": 80,
   "metadata": {
    "collapsed": false
   },
   "outputs": [
    {
     "name": "stdout",
     "output_type": "stream",
     "text": [
      "Para n = 20 :\n",
      "X̅ - média amostral: 5.00265261683\n",
      "μ - média das médias amostrais: 5.00265261683\n",
      "σ²/var - variância das médias amostrais: 0.0514992022624\n"
     ]
    },
    {
     "data": {
      "text/plain": [
       "(array([  0.00000000e+00,   0.00000000e+00,   3.10000000e+01,\n",
       "          5.27100000e+03,   4.44400000e+03,   2.51000000e+02,\n",
       "          3.00000000e+00]),\n",
       " array([ 3. ,  3.5,  4. ,  4.5,  5. ,  5.5,  6. ,  6.5]),\n",
       " <a list of 7 Patch objects>)"
      ]
     },
     "execution_count": 80,
     "metadata": {},
     "output_type": "execute_result"
    },
    {
     "data": {
      "image/png": "[encoded data removed]",
      "text/plain": [
       "<matplotlib.figure.Figure at 0x163ed81e320>"
      ]
     },
     "metadata": {},
     "output_type": "display_data"
    }
   ],
   "source": [
    "n=20\n",
    "medias=[]\n",
    "\n",
    "for i in range(10000):\n",
    "\n",
    "    random_exemplo = np.random.choice(variavel, size=n)\n",
    "\n",
    "    media_amostral=np.mean(random_exemplo)\n",
    "\n",
    "    medias.append(media_amostral)\n",
    "    \n",
    "print(\"Para n =\",n,\":\")\n",
    "print(\"X̅ - média amostral:\", np.mean(medias))\n",
    "print(\"μ - média das médias amostrais:\", np.mean(medias))\n",
    "print(\"σ²/var - variância das médias amostrais:\", np.var(medias))\n",
    "\n",
    "hist = plt.hist(medias, bins = np.arange(3,7,0.5), color=\"orange\")\n",
    "hist"
   ]
  },
  {
   "cell_type": "code",
   "execution_count": 81,
   "metadata": {
    "collapsed": false
   },
   "outputs": [
    {
     "name": "stdout",
     "output_type": "stream",
     "text": [
      "Para n = 50 :\n",
      "X̅ - média amostral: 5.00169867576\n",
      "μ - média das médias amostrais: 5.00169867576\n",
      "σ²/var - variância das médias amostrais: 0.0204525148092\n"
     ]
    },
    {
     "data": {
      "text/plain": [
       "(array([    0.,  5187.,  4804.]),\n",
       " array([ 4. ,  4.5,  5. ,  5.5]),\n",
       " <a list of 3 Patch objects>)"
      ]
     },
     "execution_count": 81,
     "metadata": {},
     "output_type": "execute_result"
    },
    {
     "data": {
      "image/png": "[encoded data removed]",
      "text/plain": [
       "<matplotlib.figure.Figure at 0x163ed88b550>"
      ]
     },
     "metadata": {},
     "output_type": "display_data"
    }
   ],
   "source": [
    "n=50\n",
    "medias=[]\n",
    "\n",
    "for i in range(10000):\n",
    "\n",
    "    random_exemplo = np.random.choice(variavel, size=n)\n",
    "\n",
    "    media_amostral=np.mean(random_exemplo)\n",
    "\n",
    "    medias.append(media_amostral)\n",
    "    \n",
    "print(\"Para n =\",n,\":\")\n",
    "print(\"X̅ - média amostral:\", np.mean(medias))\n",
    "print(\"μ - média das médias amostrais:\", np.mean(medias))\n",
    "print(\"σ²/var - variância das médias amostrais:\", np.var(medias))\n",
    "\n",
    "hist = plt.hist(medias, bins = np.arange(4,6,0.5), color=\"violet\")\n",
    "hist"
   ]
  },
  {
   "cell_type": "markdown",
   "metadata": {
    "collapsed": true
   },
   "source": [
    "## Conclusão\n",
    "\n",
    "O teorema do limite central é um importante fruto da estatística. Com ele, é possível fazer outras várias resoluções e demonstrações de teorias probabilísticas. Esse teorema comprova que, quanto maior é a amostra, mais a distribuição amostral da média se aproxima de uma distribuição normal. Ao mesmo tempo, a variância diminui.\n",
    "\n",
    "Esse teorema faz parte do ramo da estatística chamado \"inferência estatísitica\" e é útil para estimar parâmetros até a probabilidade de um dado parâmetro acontecer, a partir do intervalo, da média amostral e do desvio padrão.\n",
    "\n",
    "Ao final da simulação, conclui-se que para tamanhos maiores de amostra, menos heterogênea ela se torna. Ou seja, a média amostral se acima de um valor, e a variância diminui consequentemente. Dessa forma, a análise de resultados torna-se mais precisa."
   ]
  },
  {
   "cell_type": "code",
   "execution_count": null,
   "metadata": {
    "collapsed": true
   },
   "outputs": [],
   "source": []
  },
  {
   "cell_type": "code",
   "execution_count": null,
   "metadata": {
    "collapsed": true
   },
   "outputs": [],
   "source": []
  }
 ],
 "metadata": {
  "kernelspec": {
   "display_name": "Python 3",
   "language": "python",
   "name": "python3"
  },
  "language_info": {
   "codemirror_mode": {
    "name": "ipython",
    "version": 3
   },
   "file_extension": ".py",
   "mimetype": "text/x-python",
   "name": "python",
   "nbconvert_exporter": "python",
   "pygments_lexer": "ipython3",
   "version": "3.5.1"
  }
 },
 "nbformat": 4,
 "nbformat_minor": 0
}
