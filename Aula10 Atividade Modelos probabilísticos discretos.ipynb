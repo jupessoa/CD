{
 "cells": [
  {
   "cell_type": "markdown",
   "metadata": {},
   "source": [
    "___\n",
    "# Atividade: Modelos probabilísticos discretos e Dados\n",
    "___\n",
    "\n",
    "## Aula 10\n",
    "\n",
    "**Referência de Leitura:**\n",
    "1. Magalhães e Lima (7ª. Edição): Seções 3.2 e 3.3\n",
    "\n",
    "**Hoje:**\n",
    "1.\tDescrever modelos discretos quanto aos resultados teóricos.\n",
    "2.\tExplicar a utilização de modelos probabilísticos no contexto da literatura estatística.\n",
    "3.\tContrastar resultados teóricos e empíricos.\n",
    "4.\tFechamento do conteúdo.\n",
    "\n",
    "**Próxima aula:**\n",
    "1. Leitura prévia necessária: Magalhães e Lima (7ª. Edição): Seção 5.1 (pág. 137) e Seção 5.2 (pág. 146).\n",
    "___"
   ]
  },
  {
   "cell_type": "code",
   "execution_count": 2,
   "metadata": {
    "collapsed": true
   },
   "outputs": [],
   "source": [
    "%matplotlib inline\n",
    "import pandas as pd\n",
    "import matplotlib.pyplot as plt\n",
    "\n",
    "from scipy import stats #importa apenas as funções de estatísticas da biblioteca SciPy.\n",
    "import itertools #importante para gerar todos os resultados possíveis!!\n"
   ]
  },
  {
   "cell_type": "markdown",
   "metadata": {},
   "source": [
    "___\n",
    "## <font color='blue'>Exercício 1</font>\n",
    "\n",
    "Um resistor de 100K Ohms comprado na Santa Efigênia tem probabilidade de falha de 5%, segundo um fabricante ruim.\n",
    "\n",
    "Ainda, assuma os resistores falham de forma independente entre si.\n",
    "\n",
    "Um aluno de engenharia compra um pacote contendo $n$ resistores.\n",
    "\n",
    "1. Assuma $n=3$ e faça os itens a seguir.\n",
    "  1. Monte o espaço amostral que combine todos os resultados possíveis de Falha e não Falha desses $n$ resistores. Ainda, calcule a probabilidade de cada resultado do espaço amostral acontecer.\n",
    "  2. Se $Y$ representa o número de resistores que falham em um pacotinho com $n$ resistores, então construa a distribuição de probabilidades de $Y$.\n",
    "  3. Calcule a média e o desvio padrão de $Y$. Interprete os resultados.\n",
    "    \n",
    "2. Assuma $n=7$ e repita os itens A) a C) anteriores. No caso de $n=7$ ou maiores quantidades de resistores em um pacotinho, qual a viabilidade de construir a distribuição de probabilidades do número de resistores com defeitos quando $n$ não é pequeno?\n",
    "    \n",
    "3. Encontre a distribuição de probabilidades de cada possível valor de $Y$ utilizando a distribuição Binomial para $n=3$ e $n=7$. Calcule também $E(X)$ e $Var(X)$. Compare com as distribuições de probabilidades obtidas nos itens anteriores e discuta porque esses valores são iguais ou diferentes!\n",
    "    \n",
    "> **DISTRIBUIÇÃO BINOMIAL - TEORIA:**\n",
    "\n",
    "> É responsável por modelar uma variável $Y$ definida pelo Número de sucessos em $n$ tentativas, cuja probabilidade de sucesso é dada por $p$. Assim, dizemos que $Y$~$Bin(n,p)$ e lê-se: $Y$ segue uma distribuição binomial com $n$ tentativas e $p$ como probabilidade de sucesso. \n",
    "\n",
    "> A função de probabilidade nesse caso é dada por:\n",
    "$P(Y=y)=\\left(\n",
    "\\begin{array}{c}\n",
    "    n \\\\\n",
    "    y\n",
    "\\end{array}\\right) p^y (1-p)^{(n-y)}$\n",
    "\n",
    "> Para um experimento ter as probabilidade dos números de sucessos modeladas por uma distribuição Binomial, o mesmo precisa ter as seguintes propriedades:\n",
    "* é uma contagem de $n$ repetições (ou tentativas ou ensaios) idênticas;\n",
    "* cada repetição tem apenas 2 resultados possíveis: um é denominado sucesso e o outro, fracasso;\n",
    "* a probabilidade de sucesso para cada ensaio é denominada $p$ e será constante em cada repetição. Então, a probabilidade de fracasso $(1-p)$ também não varia de tentativa para tentativa;\n",
    "* As tentativas são independentes.\n",
    "\n",
    "\n",
    "> **DISTRIBUIÇÃO BINOMIAL - PYTHON:** <sup> [https://en.wikipedia.org/wiki/SciPy]\n",
    "\n",
    "> Algumas funções úteis para desenvolver seu código: <sup> [http://docs.scipy.org/doc/scipy-0.16.1/reference/generated/scipy.stats.binom.html]\n",
    "* $P(Y=y)$: `stats.binom.pmf(y, n, p)`\n",
    "* $P(Y\\leq y)$: `stats.binom.cdf(y, n, p)`\n",
    "* $E(X)$ e $Var(X)$: `stats.binom.stats(n, p, moments='mv')`\n"
   ]
  },
  {
   "cell_type": "code",
   "execution_count": 3,
   "metadata": {
    "collapsed": true
   },
   "outputs": [],
   "source": [
    "#item 1\n",
    "n=3\n",
    "\n",
    "possibilidades = [\"S\", \"F\"]\n",
    "prob = {\"S\": 0.95, \"F\": 0.05}"
   ]
  },
  {
   "cell_type": "code",
   "execution_count": 4,
   "metadata": {
    "collapsed": false
   },
   "outputs": [
    {
     "data": {
      "text/plain": [
       "[('S', 'S', 'S'),\n",
       " ('S', 'S', 'F'),\n",
       " ('S', 'F', 'S'),\n",
       " ('S', 'F', 'F'),\n",
       " ('F', 'S', 'S'),\n",
       " ('F', 'S', 'F'),\n",
       " ('F', 'F', 'S'),\n",
       " ('F', 'F', 'F')]"
      ]
     },
     "execution_count": 4,
     "metadata": {},
     "output_type": "execute_result"
    }
   ],
   "source": [
    "arranjos = itertools.product(possibilidades, repeat=3)\n",
    "espaco_amostral = list(arranjos)\n",
    "espaco_amostral"
   ]
  },
  {
   "cell_type": "code",
   "execution_count": 5,
   "metadata": {
    "collapsed": false
   },
   "outputs": [
    {
     "data": {
      "text/plain": [
       "[0.8573749999999999,\n",
       " 0.045125,\n",
       " 0.045125,\n",
       " 0.0023750000000000004,\n",
       " 0.045125,\n",
       " 0.0023750000000000004,\n",
       " 0.0023750000000000004,\n",
       " 0.00012500000000000003]"
      ]
     },
     "execution_count": 5,
     "metadata": {},
     "output_type": "execute_result"
    }
   ],
   "source": [
    "#Probabilidade de ocorrer cada linha\n",
    "\n",
    "prob_linha = []\n",
    "\n",
    "#Caminha por cada linha do espaço amostral\n",
    "for respectivas in espaco_amostral:\n",
    "    p = 1.0\n",
    "    #Caminha pelos elementos de cada linha\n",
    "    for e in respectivas:\n",
    "        p*=prob[e]\n",
    "    prob_linha.append(p)\n",
    "        \n",
    "prob_linha\n",
    "        "
   ]
  },
  {
   "cell_type": "code",
   "execution_count": 6,
   "metadata": {
    "collapsed": false,
    "scrolled": true
   },
   "outputs": [
    {
     "name": "stdout",
     "output_type": "stream",
     "text": [
      "Resistores com falha:  0  Probabilidade 0.85737 \n",
      "Resistores com falha:  1  Probabilidade 0.13537 \n",
      "Resistores com falha:  2  Probabilidade 0.00713 \n",
      "Resistores com falha:  3  Probabilidade 0.00013 \n"
     ]
    }
   ],
   "source": [
    "valores_X = {}\n",
    "\n",
    "for i in range(len(espaco_amostral)):\n",
    "    falham = espaco_amostral[i].count(\"F\")\n",
    "    \n",
    "    if falham in valores_X:\n",
    "        valores_X[falham] += prob_linha[i]\n",
    "    else:\n",
    "        valores_X[falham] = prob_linha[i]\n",
    "    \n",
    "    \n",
    "for k in valores_X:\n",
    "    print(\"Resistores com falha: \", k, \" Probabilidade\", \"%6.5f \"%valores_X[k])\n",
    "    \n",
    "# %6.5f = 6 algarismos, sendo 5 depois da vírgula"
   ]
  },
  {
   "cell_type": "code",
   "execution_count": 7,
   "metadata": {
    "collapsed": false
   },
   "outputs": [
    {
     "data": {
      "text/plain": [
       "0.15"
      ]
     },
     "execution_count": 7,
     "metadata": {},
     "output_type": "execute_result"
    }
   ],
   "source": [
    "media = 0*valores_X[0]+1*valores_X[1]+2*valores_X[2]+3*valores_X[3] \n",
    "media"
   ]
  },
  {
   "cell_type": "code",
   "execution_count": 8,
   "metadata": {
    "collapsed": false
   },
   "outputs": [
    {
     "data": {
      "text/plain": [
       "0.37749172176353746"
      ]
     },
     "execution_count": 8,
     "metadata": {},
     "output_type": "execute_result"
    }
   ],
   "source": [
    "var = ((0-0.15)**2)*valores_X[0] + ((1-0.15)**2)*valores_X[1] + ((2-0.15)**2)*valores_X[2] + ((3-0.15)**2)*valores_X[3]\n",
    "\n",
    "dp = (var)**(1/2)\n",
    "dp"
   ]
  },
  {
   "cell_type": "code",
   "execution_count": 9,
   "metadata": {
    "collapsed": true
   },
   "outputs": [],
   "source": [
    "#item 2\n",
    "n=7\n",
    "\n",
    "possibilidades = [\"S\", \"F\"]\n"
   ]
  },
  {
   "cell_type": "code",
   "execution_count": 10,
   "metadata": {
    "collapsed": false
   },
   "outputs": [
    {
     "data": {
      "text/plain": [
       "[('S', 'S', 'S', 'S', 'S', 'S', 'S'),\n",
       " ('S', 'S', 'S', 'S', 'S', 'S', 'F'),\n",
       " ('S', 'S', 'S', 'S', 'S', 'F', 'S'),\n",
       " ('S', 'S', 'S', 'S', 'S', 'F', 'F'),\n",
       " ('S', 'S', 'S', 'S', 'F', 'S', 'S'),\n",
       " ('S', 'S', 'S', 'S', 'F', 'S', 'F'),\n",
       " ('S', 'S', 'S', 'S', 'F', 'F', 'S'),\n",
       " ('S', 'S', 'S', 'S', 'F', 'F', 'F'),\n",
       " ('S', 'S', 'S', 'F', 'S', 'S', 'S'),\n",
       " ('S', 'S', 'S', 'F', 'S', 'S', 'F'),\n",
       " ('S', 'S', 'S', 'F', 'S', 'F', 'S'),\n",
       " ('S', 'S', 'S', 'F', 'S', 'F', 'F'),\n",
       " ('S', 'S', 'S', 'F', 'F', 'S', 'S'),\n",
       " ('S', 'S', 'S', 'F', 'F', 'S', 'F'),\n",
       " ('S', 'S', 'S', 'F', 'F', 'F', 'S'),\n",
       " ('S', 'S', 'S', 'F', 'F', 'F', 'F'),\n",
       " ('S', 'S', 'F', 'S', 'S', 'S', 'S'),\n",
       " ('S', 'S', 'F', 'S', 'S', 'S', 'F'),\n",
       " ('S', 'S', 'F', 'S', 'S', 'F', 'S'),\n",
       " ('S', 'S', 'F', 'S', 'S', 'F', 'F'),\n",
       " ('S', 'S', 'F', 'S', 'F', 'S', 'S'),\n",
       " ('S', 'S', 'F', 'S', 'F', 'S', 'F'),\n",
       " ('S', 'S', 'F', 'S', 'F', 'F', 'S'),\n",
       " ('S', 'S', 'F', 'S', 'F', 'F', 'F'),\n",
       " ('S', 'S', 'F', 'F', 'S', 'S', 'S'),\n",
       " ('S', 'S', 'F', 'F', 'S', 'S', 'F'),\n",
       " ('S', 'S', 'F', 'F', 'S', 'F', 'S'),\n",
       " ('S', 'S', 'F', 'F', 'S', 'F', 'F'),\n",
       " ('S', 'S', 'F', 'F', 'F', 'S', 'S'),\n",
       " ('S', 'S', 'F', 'F', 'F', 'S', 'F'),\n",
       " ('S', 'S', 'F', 'F', 'F', 'F', 'S'),\n",
       " ('S', 'S', 'F', 'F', 'F', 'F', 'F'),\n",
       " ('S', 'F', 'S', 'S', 'S', 'S', 'S'),\n",
       " ('S', 'F', 'S', 'S', 'S', 'S', 'F'),\n",
       " ('S', 'F', 'S', 'S', 'S', 'F', 'S'),\n",
       " ('S', 'F', 'S', 'S', 'S', 'F', 'F'),\n",
       " ('S', 'F', 'S', 'S', 'F', 'S', 'S'),\n",
       " ('S', 'F', 'S', 'S', 'F', 'S', 'F'),\n",
       " ('S', 'F', 'S', 'S', 'F', 'F', 'S'),\n",
       " ('S', 'F', 'S', 'S', 'F', 'F', 'F'),\n",
       " ('S', 'F', 'S', 'F', 'S', 'S', 'S'),\n",
       " ('S', 'F', 'S', 'F', 'S', 'S', 'F'),\n",
       " ('S', 'F', 'S', 'F', 'S', 'F', 'S'),\n",
       " ('S', 'F', 'S', 'F', 'S', 'F', 'F'),\n",
       " ('S', 'F', 'S', 'F', 'F', 'S', 'S'),\n",
       " ('S', 'F', 'S', 'F', 'F', 'S', 'F'),\n",
       " ('S', 'F', 'S', 'F', 'F', 'F', 'S'),\n",
       " ('S', 'F', 'S', 'F', 'F', 'F', 'F'),\n",
       " ('S', 'F', 'F', 'S', 'S', 'S', 'S'),\n",
       " ('S', 'F', 'F', 'S', 'S', 'S', 'F'),\n",
       " ('S', 'F', 'F', 'S', 'S', 'F', 'S'),\n",
       " ('S', 'F', 'F', 'S', 'S', 'F', 'F'),\n",
       " ('S', 'F', 'F', 'S', 'F', 'S', 'S'),\n",
       " ('S', 'F', 'F', 'S', 'F', 'S', 'F'),\n",
       " ('S', 'F', 'F', 'S', 'F', 'F', 'S'),\n",
       " ('S', 'F', 'F', 'S', 'F', 'F', 'F'),\n",
       " ('S', 'F', 'F', 'F', 'S', 'S', 'S'),\n",
       " ('S', 'F', 'F', 'F', 'S', 'S', 'F'),\n",
       " ('S', 'F', 'F', 'F', 'S', 'F', 'S'),\n",
       " ('S', 'F', 'F', 'F', 'S', 'F', 'F'),\n",
       " ('S', 'F', 'F', 'F', 'F', 'S', 'S'),\n",
       " ('S', 'F', 'F', 'F', 'F', 'S', 'F'),\n",
       " ('S', 'F', 'F', 'F', 'F', 'F', 'S'),\n",
       " ('S', 'F', 'F', 'F', 'F', 'F', 'F'),\n",
       " ('F', 'S', 'S', 'S', 'S', 'S', 'S'),\n",
       " ('F', 'S', 'S', 'S', 'S', 'S', 'F'),\n",
       " ('F', 'S', 'S', 'S', 'S', 'F', 'S'),\n",
       " ('F', 'S', 'S', 'S', 'S', 'F', 'F'),\n",
       " ('F', 'S', 'S', 'S', 'F', 'S', 'S'),\n",
       " ('F', 'S', 'S', 'S', 'F', 'S', 'F'),\n",
       " ('F', 'S', 'S', 'S', 'F', 'F', 'S'),\n",
       " ('F', 'S', 'S', 'S', 'F', 'F', 'F'),\n",
       " ('F', 'S', 'S', 'F', 'S', 'S', 'S'),\n",
       " ('F', 'S', 'S', 'F', 'S', 'S', 'F'),\n",
       " ('F', 'S', 'S', 'F', 'S', 'F', 'S'),\n",
       " ('F', 'S', 'S', 'F', 'S', 'F', 'F'),\n",
       " ('F', 'S', 'S', 'F', 'F', 'S', 'S'),\n",
       " ('F', 'S', 'S', 'F', 'F', 'S', 'F'),\n",
       " ('F', 'S', 'S', 'F', 'F', 'F', 'S'),\n",
       " ('F', 'S', 'S', 'F', 'F', 'F', 'F'),\n",
       " ('F', 'S', 'F', 'S', 'S', 'S', 'S'),\n",
       " ('F', 'S', 'F', 'S', 'S', 'S', 'F'),\n",
       " ('F', 'S', 'F', 'S', 'S', 'F', 'S'),\n",
       " ('F', 'S', 'F', 'S', 'S', 'F', 'F'),\n",
       " ('F', 'S', 'F', 'S', 'F', 'S', 'S'),\n",
       " ('F', 'S', 'F', 'S', 'F', 'S', 'F'),\n",
       " ('F', 'S', 'F', 'S', 'F', 'F', 'S'),\n",
       " ('F', 'S', 'F', 'S', 'F', 'F', 'F'),\n",
       " ('F', 'S', 'F', 'F', 'S', 'S', 'S'),\n",
       " ('F', 'S', 'F', 'F', 'S', 'S', 'F'),\n",
       " ('F', 'S', 'F', 'F', 'S', 'F', 'S'),\n",
       " ('F', 'S', 'F', 'F', 'S', 'F', 'F'),\n",
       " ('F', 'S', 'F', 'F', 'F', 'S', 'S'),\n",
       " ('F', 'S', 'F', 'F', 'F', 'S', 'F'),\n",
       " ('F', 'S', 'F', 'F', 'F', 'F', 'S'),\n",
       " ('F', 'S', 'F', 'F', 'F', 'F', 'F'),\n",
       " ('F', 'F', 'S', 'S', 'S', 'S', 'S'),\n",
       " ('F', 'F', 'S', 'S', 'S', 'S', 'F'),\n",
       " ('F', 'F', 'S', 'S', 'S', 'F', 'S'),\n",
       " ('F', 'F', 'S', 'S', 'S', 'F', 'F'),\n",
       " ('F', 'F', 'S', 'S', 'F', 'S', 'S'),\n",
       " ('F', 'F', 'S', 'S', 'F', 'S', 'F'),\n",
       " ('F', 'F', 'S', 'S', 'F', 'F', 'S'),\n",
       " ('F', 'F', 'S', 'S', 'F', 'F', 'F'),\n",
       " ('F', 'F', 'S', 'F', 'S', 'S', 'S'),\n",
       " ('F', 'F', 'S', 'F', 'S', 'S', 'F'),\n",
       " ('F', 'F', 'S', 'F', 'S', 'F', 'S'),\n",
       " ('F', 'F', 'S', 'F', 'S', 'F', 'F'),\n",
       " ('F', 'F', 'S', 'F', 'F', 'S', 'S'),\n",
       " ('F', 'F', 'S', 'F', 'F', 'S', 'F'),\n",
       " ('F', 'F', 'S', 'F', 'F', 'F', 'S'),\n",
       " ('F', 'F', 'S', 'F', 'F', 'F', 'F'),\n",
       " ('F', 'F', 'F', 'S', 'S', 'S', 'S'),\n",
       " ('F', 'F', 'F', 'S', 'S', 'S', 'F'),\n",
       " ('F', 'F', 'F', 'S', 'S', 'F', 'S'),\n",
       " ('F', 'F', 'F', 'S', 'S', 'F', 'F'),\n",
       " ('F', 'F', 'F', 'S', 'F', 'S', 'S'),\n",
       " ('F', 'F', 'F', 'S', 'F', 'S', 'F'),\n",
       " ('F', 'F', 'F', 'S', 'F', 'F', 'S'),\n",
       " ('F', 'F', 'F', 'S', 'F', 'F', 'F'),\n",
       " ('F', 'F', 'F', 'F', 'S', 'S', 'S'),\n",
       " ('F', 'F', 'F', 'F', 'S', 'S', 'F'),\n",
       " ('F', 'F', 'F', 'F', 'S', 'F', 'S'),\n",
       " ('F', 'F', 'F', 'F', 'S', 'F', 'F'),\n",
       " ('F', 'F', 'F', 'F', 'F', 'S', 'S'),\n",
       " ('F', 'F', 'F', 'F', 'F', 'S', 'F'),\n",
       " ('F', 'F', 'F', 'F', 'F', 'F', 'S'),\n",
       " ('F', 'F', 'F', 'F', 'F', 'F', 'F')]"
      ]
     },
     "execution_count": 10,
     "metadata": {},
     "output_type": "execute_result"
    }
   ],
   "source": [
    "arranjos = itertools.product(possibilidades, repeat=7)\n",
    "espaco_amostral = list(arranjos)\n",
    "espaco_amostral"
   ]
  },
  {
   "cell_type": "code",
   "execution_count": 11,
   "metadata": {
    "collapsed": false
   },
   "outputs": [
    {
     "data": {
      "text/plain": [
       "[0.6983372960937497,\n",
       " 0.03675459453124999,\n",
       " 0.03675459453124999,\n",
       " 0.0019344523437499997,\n",
       " 0.03675459453125,\n",
       " 0.0019344523437500002,\n",
       " 0.0019344523437499997,\n",
       " 0.00010181328125,\n",
       " 0.03675459453124999,\n",
       " 0.0019344523437499997,\n",
       " 0.0019344523437499997,\n",
       " 0.00010181328125,\n",
       " 0.0019344523437499997,\n",
       " 0.00010181328125,\n",
       " 0.00010181328125,\n",
       " 5.358593750000001e-06,\n",
       " 0.03675459453124999,\n",
       " 0.0019344523437499997,\n",
       " 0.0019344523437499997,\n",
       " 0.00010181328125,\n",
       " 0.0019344523437499997,\n",
       " 0.00010181328125,\n",
       " 0.00010181328125,\n",
       " 5.358593750000001e-06,\n",
       " 0.0019344523437499997,\n",
       " 0.00010181328125,\n",
       " 0.00010181328125,\n",
       " 5.358593750000001e-06,\n",
       " 0.00010181328125,\n",
       " 5.358593750000001e-06,\n",
       " 5.35859375e-06,\n",
       " 2.8203125e-07,\n",
       " 0.03675459453124999,\n",
       " 0.0019344523437499997,\n",
       " 0.0019344523437499997,\n",
       " 0.00010181328125,\n",
       " 0.0019344523437499997,\n",
       " 0.00010181328125,\n",
       " 0.00010181328125,\n",
       " 5.358593750000001e-06,\n",
       " 0.0019344523437499997,\n",
       " 0.00010181328125,\n",
       " 0.00010181328125,\n",
       " 5.358593750000001e-06,\n",
       " 0.00010181328125,\n",
       " 5.358593750000001e-06,\n",
       " 5.35859375e-06,\n",
       " 2.8203125e-07,\n",
       " 0.0019344523437500002,\n",
       " 0.00010181328125000002,\n",
       " 0.00010181328125000001,\n",
       " 5.358593750000001e-06,\n",
       " 0.00010181328125000001,\n",
       " 5.358593750000001e-06,\n",
       " 5.358593750000001e-06,\n",
       " 2.820312500000001e-07,\n",
       " 0.00010181328125000001,\n",
       " 5.358593750000001e-06,\n",
       " 5.358593750000001e-06,\n",
       " 2.820312500000001e-07,\n",
       " 5.358593750000001e-06,\n",
       " 2.820312500000001e-07,\n",
       " 2.820312500000001e-07,\n",
       " 1.4843750000000007e-08,\n",
       " 0.03675459453124999,\n",
       " 0.0019344523437499997,\n",
       " 0.0019344523437499997,\n",
       " 0.00010181328125,\n",
       " 0.0019344523437499997,\n",
       " 0.00010181328125,\n",
       " 0.00010181328125,\n",
       " 5.358593750000001e-06,\n",
       " 0.0019344523437499997,\n",
       " 0.00010181328125,\n",
       " 0.00010181328125,\n",
       " 5.358593750000001e-06,\n",
       " 0.00010181328125,\n",
       " 5.358593750000001e-06,\n",
       " 5.35859375e-06,\n",
       " 2.8203125e-07,\n",
       " 0.0019344523437500002,\n",
       " 0.00010181328125000002,\n",
       " 0.00010181328125000001,\n",
       " 5.358593750000001e-06,\n",
       " 0.00010181328125000001,\n",
       " 5.358593750000001e-06,\n",
       " 5.358593750000001e-06,\n",
       " 2.820312500000001e-07,\n",
       " 0.00010181328125000001,\n",
       " 5.358593750000001e-06,\n",
       " 5.358593750000001e-06,\n",
       " 2.820312500000001e-07,\n",
       " 5.358593750000001e-06,\n",
       " 2.820312500000001e-07,\n",
       " 2.820312500000001e-07,\n",
       " 1.4843750000000007e-08,\n",
       " 0.0019344523437500002,\n",
       " 0.00010181328125000002,\n",
       " 0.00010181328125000001,\n",
       " 5.358593750000001e-06,\n",
       " 0.00010181328125000001,\n",
       " 5.358593750000001e-06,\n",
       " 5.358593750000001e-06,\n",
       " 2.820312500000001e-07,\n",
       " 0.00010181328125000001,\n",
       " 5.358593750000001e-06,\n",
       " 5.358593750000001e-06,\n",
       " 2.820312500000001e-07,\n",
       " 5.358593750000001e-06,\n",
       " 2.820312500000001e-07,\n",
       " 2.820312500000001e-07,\n",
       " 1.4843750000000007e-08,\n",
       " 0.00010181328125000001,\n",
       " 5.358593750000001e-06,\n",
       " 5.358593750000001e-06,\n",
       " 2.820312500000001e-07,\n",
       " 5.358593750000001e-06,\n",
       " 2.820312500000001e-07,\n",
       " 2.820312500000001e-07,\n",
       " 1.4843750000000007e-08,\n",
       " 5.358593750000001e-06,\n",
       " 2.820312500000001e-07,\n",
       " 2.820312500000001e-07,\n",
       " 1.4843750000000007e-08,\n",
       " 2.820312500000001e-07,\n",
       " 1.4843750000000007e-08,\n",
       " 1.4843750000000005e-08,\n",
       " 7.812500000000004e-10]"
      ]
     },
     "execution_count": 11,
     "metadata": {},
     "output_type": "execute_result"
    }
   ],
   "source": [
    "#Probabilidade de ocorrer cada linha\n",
    "\n",
    "prob_linha = []\n",
    "\n",
    "#Caminha por cada linha do espaço amostral\n",
    "for respectivas in espaco_amostral:\n",
    "    p = 1.0\n",
    "    #Caminha pelos elementos de cada linha\n",
    "    for e in respectivas:\n",
    "        p*=prob[e]\n",
    "    prob_linha.append(p)\n",
    "        \n",
    "prob_linha"
   ]
  },
  {
   "cell_type": "code",
   "execution_count": 12,
   "metadata": {
    "collapsed": false
   },
   "outputs": [
    {
     "name": "stdout",
     "output_type": "stream",
     "text": [
      "Resistores com falha:  0  Probabilidade 0.69834 \n",
      "Resistores com falha:  1  Probabilidade 0.25728 \n",
      "Resistores com falha:  2  Probabilidade 0.04062 \n",
      "Resistores com falha:  3  Probabilidade 0.00356 \n",
      "Resistores com falha:  4  Probabilidade 0.00019 \n",
      "Resistores com falha:  5  Probabilidade 0.00001 \n",
      "Resistores com falha:  6  Probabilidade 0.00000 \n",
      "Resistores com falha:  7  Probabilidade 0.00000 \n"
     ]
    }
   ],
   "source": [
    "valores_X = {}\n",
    "\n",
    "for i in range(len(espaco_amostral)):\n",
    "    falham = espaco_amostral[i].count(\"F\")\n",
    "    \n",
    "    if falham in valores_X:\n",
    "        valores_X[falham] += prob_linha[i]\n",
    "    else:\n",
    "        valores_X[falham] = prob_linha[i]\n",
    "    \n",
    "    \n",
    "for k in valores_X:\n",
    "    print(\"Resistores com falha: \", k, \" Probabilidade\", \"%6.5f \"%valores_X[k])\n",
    "    \n",
    "# %6.5f = 6 algarismos, sendo 5 depois da vírgula"
   ]
  },
  {
   "cell_type": "markdown",
   "metadata": {
    "collapsed": true
   },
   "source": [
    "___\n",
    "## <font color='blue'>Exercício 2</font>\n",
    "\n",
    "Uma fábrica produz determinado veículo. O gerente de vendas fechou um negócio que implica na produção de pelo menos 110 unidades nos próximos dois meses. Para isso, será construída uma nova linha de montagem com capacidade para produzir em média 50 veículos por mês (considere meses de 30 dias). A linha funcionará ininterruptamente. Além disso, apenas um veículo é produzido por vez. Considere que um modelo Poisson seja adequado para a quantidade de veículos produzidos.\n",
    "   1. Qual a probabilidade  da produção ser igual a 100 veículos nos próximos dois meses?\n",
    "   2. Qual a probabilidade  da produção ser de pelo menos 100 veículos nos próximos dois meses?\n",
    "   3. Qual a probabilidade da produção ser entre 100 e 110 veículos nos próximos dois meses?\n",
    "   4. Se forem produzidos de pelo menos 100 veículos no próximo mês, qual a probabilidade do gerente cumprir a meta negociada?\n",
    "   5. Caso o prazo seja cumprido, o lucro será da ordem de $250$ mil, caso não seja, o lucro cai para $200$ mil. Qual é o lucro esperado e seu desvio-padrão?\n",
    "\n",
    "**Observação:** Explore os comandos de `stats.poisson`. <sup>[http://docs.scipy.org/doc/scipy/reference/generated/scipy.stats.poisson.html]\n"
   ]
  },
  {
   "cell_type": "code",
   "execution_count": null,
   "metadata": {
    "collapsed": true
   },
   "outputs": [],
   "source": []
  },
  {
   "cell_type": "markdown",
   "metadata": {},
   "source": [
    "___\n",
    "## <font color='blue'>Exercício 3</font> \n",
    "### <font color='red'>**Check para dia 13/09 em DUPLA **</font>\n",
    "\n",
    "Esse exercício irá explorar uma modelagem de dados reais.\n",
    "\n",
    "> **Confira alguns itens obrigatórios verificados durante a vistoria do Detran**\n",
    "\n",
    "> *Todos os veículos, novos ou velhos, precisam passar por uma vistoria todos os anos. (...) O motorista precisa estar atento a alguns itens obrigatórios. Tudo deve funcionar perfeitamente, apresentar bom estado de conservação e estar dentro do prazo de validade.*\n",
    "\n",
    "> <sup>Fonte: http://extra.globo.com/noticias/brasil/transito-seguro/confira-alguns-itens-obrigatorios-verificados-durante-vistoria-do-detran-10190355.html</sup>\n",
    "\n",
    "Essa matéria lista 14 itens que são inspecionados pelo Detran, dentre os quais têm-se: extintor de incêndio deve estar dentro do prazo de validade; pneus devem estar em bom estado de conservação; buzina deve funcionar perfeitamente; e cintos de segurança para todos os ocupantes do carro. Se, no final das contas, todos os 14 itens estiverem funcionando perfeitamente, o motorista irá feliz para casa assegurado de que seu carro está sem problemas com a vistoria.\n",
    "\n",
    "1. A base de dados `Carros.txt` apresenta, para cada um dos três mil carros de passeio vistoriados, duas informações: tipo de carro (1: Popular e 2: Não Popular) e quantidade de itens vistoriados em não conformidade (que pode variar de 0 a 14). \n",
    "    1. Considerando todos os carros, analise a quantidade de itens vistoriados em não conformidade. Pela tabela de frequências relativas, calcule a média e variância dessa quantidade. Interprete-os.\n",
    "    2. Assuma que a variável *Quantidade de itens em não conformidade* possa ser ajustada pelo modelo Binomial com parâmetros $n=14$ e $p=0,10$. Interprete esses parâmetros para o problema em questão e, ainda, discuta se as propriedades da distribuição Binomial estão satisfeitas para o problema aqui me questão.\n",
    "    \n",
    "    **Independente da sua resposta anterior, considere que a distribuição binomial seja adequada para modelar a variável de interesse nos próximos itens!**\n",
    "    3. Utilizando o método `stats.binom.pmf`, obtenha a probabilidade de cada uma das quantidades de itens em não conformidade quando $n=14$ e $p=0,10$. Calcule o valor esperado e a variância da quantidade de itens em não conformidade utilizando o método `stats.binom.stats` e via resultado da Tabela 4.4 do Magalhães e Lima (pág. 125).\n",
    "    4. Compare as probabilidades teóricas com as frequências relativas observadas nos dados. Para isso, tem-se, por exemplo, as duas opções abaixo para comparar se os resultados empíricos se encaixam com o modelo teórico proposto. \n",
    "        - A primeira opção gráfica contrasta a frequência relativa e a probabilidade teórica para uma determinada quantidade de itens em não conformidade! Vide Figura 3.4 do livro Magalhães e Lima (pág. 87). Ou seja, essa opção contrasta a frequência relativa em um valor de $y$ e a probabilidade pontual $P(Y=y)$.\n",
    "        - A segunda contrasta a frequência relativa acumulada com a probabilidade acumulada até determinada quantidade de itens em não conformidade. Ou seja, compara a frequência relativa acumulada até $y$ com a probabilidade acumulada $P(Y\\leq y)$.\n",
    "    Construa os gráficos de acordo com as duas opções e refine sua conclusão quanto ao uso do modelo teórico para ajustar a variável em questão!\n",
    "    5. Na prática, qual a necessidade de um modelo probabilístico já que se têm os dados observados?\n",
    "    6. Considerando apenas os carros populares, o modelo Binomial com parâmetros $n=14$ e $p=0,10$ é adequado para ajustar a variável Quantidade de itens em não conformidade? Se sim, justifique; caso não, sugira novos valores para os parâmetros da distribuição ajuste aos dados."
   ]
  },
  {
   "cell_type": "code",
   "execution_count": 13,
   "metadata": {
    "collapsed": false
   },
   "outputs": [
    {
     "name": "stdout",
     "output_type": "stream",
     "text": [
      "Esperamos trabalhar no diretório\n",
      "C:\\Users\\pesso\\Documents\\CIÊNCIA DOS DADOS\n"
     ]
    }
   ],
   "source": [
    "import os\n",
    "print('Esperamos trabalhar no diretório')\n",
    "print(os.getcwd())\n",
    "carros = pd.read_table('Carros.txt', sep=' ')"
   ]
  },
  {
   "cell_type": "code",
   "execution_count": 14,
   "metadata": {
    "collapsed": false
   },
   "outputs": [
    {
     "data": {
      "text/html": [
       "<div>\n",
       "<table border=\"1\" class=\"dataframe\">\n",
       "  <thead>\n",
       "    <tr style=\"text-align: right;\">\n",
       "      <th></th>\n",
       "      <th>Tipo</th>\n",
       "      <th>Quantidade</th>\n",
       "    </tr>\n",
       "  </thead>\n",
       "  <tbody>\n",
       "    <tr>\n",
       "      <th>1</th>\n",
       "      <td>1</td>\n",
       "      <td>0</td>\n",
       "    </tr>\n",
       "    <tr>\n",
       "      <th>2</th>\n",
       "      <td>1</td>\n",
       "      <td>2</td>\n",
       "    </tr>\n",
       "    <tr>\n",
       "      <th>3</th>\n",
       "      <td>1</td>\n",
       "      <td>2</td>\n",
       "    </tr>\n",
       "    <tr>\n",
       "      <th>4</th>\n",
       "      <td>1</td>\n",
       "      <td>3</td>\n",
       "    </tr>\n",
       "    <tr>\n",
       "      <th>5</th>\n",
       "      <td>1</td>\n",
       "      <td>1</td>\n",
       "    </tr>\n",
       "  </tbody>\n",
       "</table>\n",
       "</div>"
      ],
      "text/plain": [
       "   Tipo  Quantidade\n",
       "1     1           0\n",
       "2     1           2\n",
       "3     1           2\n",
       "4     1           3\n",
       "5     1           1"
      ]
     },
     "execution_count": 14,
     "metadata": {},
     "output_type": "execute_result"
    }
   ],
   "source": [
    "carros.head()"
   ]
  },
  {
   "cell_type": "code",
   "execution_count": 15,
   "metadata": {
    "collapsed": false
   },
   "outputs": [
    {
     "data": {
      "text/html": [
       "<div>\n",
       "<table border=\"1\" class=\"dataframe\">\n",
       "  <thead>\n",
       "    <tr style=\"text-align: right;\">\n",
       "      <th></th>\n",
       "      <th>Contagem</th>\n",
       "    </tr>\n",
       "    <tr>\n",
       "      <th>Quantidade</th>\n",
       "      <th></th>\n",
       "    </tr>\n",
       "  </thead>\n",
       "  <tbody>\n",
       "    <tr>\n",
       "      <th>0</th>\n",
       "      <td>864</td>\n",
       "    </tr>\n",
       "    <tr>\n",
       "      <th>1</th>\n",
       "      <td>950</td>\n",
       "    </tr>\n",
       "    <tr>\n",
       "      <th>2</th>\n",
       "      <td>664</td>\n",
       "    </tr>\n",
       "    <tr>\n",
       "      <th>3</th>\n",
       "      <td>325</td>\n",
       "    </tr>\n",
       "    <tr>\n",
       "      <th>4</th>\n",
       "      <td>139</td>\n",
       "    </tr>\n",
       "    <tr>\n",
       "      <th>5</th>\n",
       "      <td>47</td>\n",
       "    </tr>\n",
       "    <tr>\n",
       "      <th>6</th>\n",
       "      <td>8</td>\n",
       "    </tr>\n",
       "    <tr>\n",
       "      <th>7</th>\n",
       "      <td>2</td>\n",
       "    </tr>\n",
       "    <tr>\n",
       "      <th>8</th>\n",
       "      <td>1</td>\n",
       "    </tr>\n",
       "  </tbody>\n",
       "</table>\n",
       "</div>"
      ],
      "text/plain": [
       "            Contagem\n",
       "Quantidade          \n",
       "0                864\n",
       "1                950\n",
       "2                664\n",
       "3                325\n",
       "4                139\n",
       "5                 47\n",
       "6                  8\n",
       "7                  2\n",
       "8                  1"
      ]
     },
     "execution_count": 15,
     "metadata": {},
     "output_type": "execute_result"
    }
   ],
   "source": [
    "ct = pd.crosstab(index=carros[\"Quantidade\"],\n",
    "                              columns=\"Contagem\",\n",
    "                colnames=[\" \"])\n",
    "\n",
    "ct"
   ]
  },
  {
   "cell_type": "code",
   "execution_count": 16,
   "metadata": {
    "collapsed": false
   },
   "outputs": [
    {
     "data": {
      "text/html": [
       "<div>\n",
       "<table border=\"1\" class=\"dataframe\">\n",
       "  <thead>\n",
       "    <tr style=\"text-align: right;\">\n",
       "      <th></th>\n",
       "      <th>Freq. relativa</th>\n",
       "    </tr>\n",
       "    <tr>\n",
       "      <th>Quantidade</th>\n",
       "      <th></th>\n",
       "    </tr>\n",
       "  </thead>\n",
       "  <tbody>\n",
       "    <tr>\n",
       "      <th>0</th>\n",
       "      <td>0.288000</td>\n",
       "    </tr>\n",
       "    <tr>\n",
       "      <th>1</th>\n",
       "      <td>0.316667</td>\n",
       "    </tr>\n",
       "    <tr>\n",
       "      <th>2</th>\n",
       "      <td>0.221333</td>\n",
       "    </tr>\n",
       "    <tr>\n",
       "      <th>3</th>\n",
       "      <td>0.108333</td>\n",
       "    </tr>\n",
       "    <tr>\n",
       "      <th>4</th>\n",
       "      <td>0.046333</td>\n",
       "    </tr>\n",
       "    <tr>\n",
       "      <th>5</th>\n",
       "      <td>0.015667</td>\n",
       "    </tr>\n",
       "    <tr>\n",
       "      <th>6</th>\n",
       "      <td>0.002667</td>\n",
       "    </tr>\n",
       "    <tr>\n",
       "      <th>7</th>\n",
       "      <td>0.000667</td>\n",
       "    </tr>\n",
       "    <tr>\n",
       "      <th>8</th>\n",
       "      <td>0.000333</td>\n",
       "    </tr>\n",
       "  </tbody>\n",
       "</table>\n",
       "</div>"
      ],
      "text/plain": [
       "            Freq. relativa\n",
       "Quantidade                \n",
       "0                 0.288000\n",
       "1                 0.316667\n",
       "2                 0.221333\n",
       "3                 0.108333\n",
       "4                 0.046333\n",
       "5                 0.015667\n",
       "6                 0.002667\n",
       "7                 0.000667\n",
       "8                 0.000333"
      ]
     },
     "execution_count": 16,
     "metadata": {},
     "output_type": "execute_result"
    }
   ],
   "source": [
    "ct2 = pd.crosstab(index=carros[\"Quantidade\"],\n",
    "                              columns=\"Freq. relativa\",\n",
    "                 colnames=[\" \"]).apply(lambda r: r/3000, axis=1)\n",
    "\n",
    "ct2"
   ]
  },
  {
   "cell_type": "code",
   "execution_count": 17,
   "metadata": {
    "collapsed": false
   },
   "outputs": [
    {
     "data": {
      "text/plain": [
       "1.3713333333333333"
      ]
     },
     "execution_count": 17,
     "metadata": {},
     "output_type": "execute_result"
    }
   ],
   "source": [
    "media = float(ct2.loc[0]*0+ct2.loc[1]*1+ct2.loc[2]*2+ct2.loc[3]*3+ct2.loc[4]*4+ct2.loc[5]*5+ct2.loc[6]*6+ct2.loc[7]*7+ct2.loc[8]*8)\n",
    "media\n"
   ]
  },
  {
   "cell_type": "code",
   "execution_count": 18,
   "metadata": {
    "collapsed": false
   },
   "outputs": [
    {
     "data": {
      "text/plain": [
       "1.5794448888888888"
      ]
     },
     "execution_count": 18,
     "metadata": {},
     "output_type": "execute_result"
    }
   ],
   "source": [
    "a = (0-media)**(2)*ct2.loc[0]\n",
    "b = (1-media)**(2)*ct2.loc[1]\n",
    "c = (2-media)**(2)*ct2.loc[2]\n",
    "d = (3-media)**(2)*ct2.loc[3]\n",
    "e = (4-media)**(2)*ct2.loc[4]\n",
    "f = (5-media)**(2)*ct2.loc[5]\n",
    "g = (6-media)**(2)*ct2.loc[6]\n",
    "h = (7-media)**(2)*ct2.loc[7]\n",
    "i = (8-media)**(2)*ct2.loc[8]\n",
    "\n",
    "\n",
    "var = float(a+b+c+d+e+f+g+h+i)\n",
    "var"
   ]
  },
  {
   "cell_type": "code",
   "execution_count": 19,
   "metadata": {
    "collapsed": false
   },
   "outputs": [
    {
     "data": {
      "text/plain": [
       "0.35586121596606141"
      ]
     },
     "execution_count": 19,
     "metadata": {},
     "output_type": "execute_result"
    }
   ],
   "source": [
    "k = 1\n",
    "n = 14\n",
    "p = 0.1\n",
    "\n",
    "binomial = stats.binom.pmf(k,n,p)\n",
    "binomial"
   ]
  },
  {
   "cell_type": "code",
   "execution_count": 44,
   "metadata": {
    "collapsed": false
   },
   "outputs": [
    {
     "data": {
      "text/plain": [
       "[0.22876792454960998,\n",
       " 0.35586121596606141,\n",
       " 0.2570108781977114,\n",
       " 0.11422705697676022,\n",
       " 0.034902711854010011,\n",
       " 0.0077561581897800267,\n",
       " 0.0012926930316300015,\n",
       " 0.00016415149608000069,\n",
       " 1.5959173230000058e-05,\n",
       " 1.1821609800000021e-06,\n",
       " 6.5675610000000304e-08,\n",
       " 2.6535600000000108e-09,\n",
       " 7.3710000000000372e-11,\n",
       " 1.2600000000000108e-12,\n",
       " 1.0000000000000058e-14]"
      ]
     },
     "execution_count": 44,
     "metadata": {},
     "output_type": "execute_result"
    }
   ],
   "source": [
    "# Distribuição binomial teórica\n",
    "\n",
    "n = 14\n",
    "p = 0.1\n",
    "lista = []\n",
    "for i in range(0,15):\n",
    "    \n",
    "    binomial2 = stats.binom.pmf(i,n,p)\n",
    "    lista.append(binomial2)\n",
    "lista"
   ]
  },
  {
   "cell_type": "code",
   "execution_count": 20,
   "metadata": {
    "collapsed": false
   },
   "outputs": [
    {
     "data": {
      "text/plain": [
       "1.4000000000000001"
      ]
     },
     "execution_count": 20,
     "metadata": {},
     "output_type": "execute_result"
    }
   ],
   "source": [
    "valor_esp = n*p\n",
    "valor_esp"
   ]
  },
  {
   "cell_type": "code",
   "execution_count": 21,
   "metadata": {
    "collapsed": false
   },
   "outputs": [
    {
     "data": {
      "text/plain": [
       "1.2600000000000002"
      ]
     },
     "execution_count": 21,
     "metadata": {},
     "output_type": "execute_result"
    }
   ],
   "source": [
    "variancia = n*p*(1-p)\n",
    "variancia"
   ]
  },
  {
   "cell_type": "markdown",
   "metadata": {},
   "source": [
    "D)\n",
    "\n",
    "As probabilidades teóricas são diferentes das probabilidades empíricas, pois a teórica considera que os itens em \"não conformidade\" têm a mesma probabilidade, enquanto a empírica analisa a partir da amostra, com frequências relativas diferentes."
   ]
  },
  {
   "cell_type": "markdown",
   "metadata": {
    "collapsed": true
   },
   "source": [
    "E)\n",
    "\n",
    "A necessidade é de analisar a porcentagem de itens em não conformidade, visto que as frequências não são iguais."
   ]
  },
  {
   "cell_type": "markdown",
   "metadata": {},
   "source": [
    "F)\n",
    "\n",
    "Não é adequado!"
   ]
  },
  {
   "cell_type": "code",
   "execution_count": 68,
   "metadata": {
    "collapsed": false
   },
   "outputs": [
    {
     "data": {
      "text/plain": [
       "(array(1.82), array(1.5834000000000001))"
      ]
     },
     "execution_count": 68,
     "metadata": {},
     "output_type": "execute_result"
    }
   ],
   "source": [
    "stats.binom.stats(14,0.13, moments=\"mv\")"
   ]
  },
  {
   "cell_type": "code",
   "execution_count": 61,
   "metadata": {
    "collapsed": false
   },
   "outputs": [
    {
     "data": {
      "image/png": "[encoded data removed]",
      "text/plain": [
       "<matplotlib.figure.Figure at 0x1bdb046e780>"
      ]
     },
     "metadata": {},
     "output_type": "display_data"
    }
   ],
   "source": [
    "quant=carros.Quantidade.value_counts(True)\n",
    "x=[stats.binom.pmf(0, 14,0.1),stats.binom.pmf(1, 14,0.1),stats.binom.pmf(2, 14,0.1),stats.binom.pmf(3, 14,0.1),stats.binom.pmf(4, 14,0.1),\n",
    "   stats.binom.pmf(5, 14,0.1),stats.binom.pmf(6, 14,0.1),stats.binom.pmf(7, 14,0.1),stats.binom.pmf(8,14,0.1)]\n",
    "plt.plot(quant, 'bo')\n",
    "plt.plot(x,'bo', color='darkgreen')\n",
    "plt.legend(['empírica','teórica'])\n",
    "plt.show()"
   ]
  },
  {
   "cell_type": "code",
   "execution_count": 60,
   "metadata": {
    "collapsed": false
   },
   "outputs": [
    {
     "data": {
      "text/plain": [
       "7.497000000000001"
      ]
     },
     "execution_count": 60,
     "metadata": {},
     "output_type": "execute_result"
    }
   ],
   "source": [
    "#Frequência relativa para valores teóricos: 7,14%\n",
    "\n",
    "mediat = 0.0714*0 + 0.0714*1 + 0.0714*2 + 0.0714*3 + 0.0714*4 + 0.0714*5 + 0.0714*6 + 0.0714*7 + 0.0714*8 + 0.0714*9 + 0.0714*10 + 0.0714*11 + 0.0714*12 + 0.0714*13 + 0.0714*14\n",
    "mediat\n"
   ]
  }
 ],
 "metadata": {
  "anaconda-cloud": {},
  "kernelspec": {
   "display_name": "Python 3",
   "language": "python",
   "name": "python3"
  },
  "language_info": {
   "codemirror_mode": {
    "name": "ipython",
    "version": 3
   },
   "file_extension": ".py",
   "mimetype": "text/x-python",
   "name": "python",
   "nbconvert_exporter": "python",
   "pygments_lexer": "ipython3",
   "version": "3.5.1"
  }
 },
 "nbformat": 4,
 "nbformat_minor": 0
}
